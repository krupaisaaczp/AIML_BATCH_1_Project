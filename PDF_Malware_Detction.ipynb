{
  "cells": [
    {
      "cell_type": "markdown",
      "metadata": {
        "colab_type": "text",
        "id": "view-in-github"
      },
      "source": [
        "<a href=\"https://colab.research.google.com/github/krupaisaaczp/PDF_malware_detection/blob/main/PDF_Malware_Detction.ipynb\" target=\"_parent\"><img src=\"https://colab.research.google.com/assets/colab-badge.svg\" alt=\"Open In Colab\"/></a>"
      ]
    },
    {
      "cell_type": "markdown",
      "metadata": {
        "id": "icfDwOZPm5o_"
      },
      "source": [
        "#**Installations**"
      ]
    },
    {
      "cell_type": "code",
      "execution_count": 1,
      "metadata": {
        "colab": {
          "base_uri": "https://localhost:8080/"
        },
        "id": "OJwNyXy2mZhX",
        "outputId": "1caf99e5-c663-4e51-c2a5-8b9f6d052036"
      },
      "outputs": [
        {
          "name": "stdout",
          "output_type": "stream",
          "text": [
            "Requirement already satisfied: pandas in c:\\users\\krupa\\anaconda3\\lib\\site-packages (2.1.4)\n",
            "Requirement already satisfied: numpy in c:\\users\\krupa\\anaconda3\\lib\\site-packages (1.26.4)\n",
            "Requirement already satisfied: matplotlib in c:\\users\\krupa\\anaconda3\\lib\\site-packages (3.8.0)\n",
            "Requirement already satisfied: seaborn in c:\\users\\krupa\\anaconda3\\lib\\site-packages (0.12.2)\n",
            "Requirement already satisfied: tqdm in c:\\users\\krupa\\anaconda3\\lib\\site-packages (4.65.0)\n",
            "Requirement already satisfied: joblib in c:\\users\\krupa\\anaconda3\\lib\\site-packages (1.2.0)\n",
            "Requirement already satisfied: pymupdf in c:\\users\\krupa\\anaconda3\\lib\\site-packages (1.25.2)\n",
            "Requirement already satisfied: python-magic in c:\\users\\krupa\\anaconda3\\lib\\site-packages (0.4.27)\n",
            "Requirement already satisfied: python-docx in c:\\users\\krupa\\anaconda3\\lib\\site-packages (1.1.2)\n",
            "Requirement already satisfied: python-dateutil>=2.8.2 in c:\\users\\krupa\\anaconda3\\lib\\site-packages (from pandas) (2.8.2)\n",
            "Requirement already satisfied: pytz>=2020.1 in c:\\users\\krupa\\anaconda3\\lib\\site-packages (from pandas) (2023.3.post1)\n",
            "Requirement already satisfied: tzdata>=2022.1 in c:\\users\\krupa\\anaconda3\\lib\\site-packages (from pandas) (2023.3)\n",
            "Requirement already satisfied: contourpy>=1.0.1 in c:\\users\\krupa\\anaconda3\\lib\\site-packages (from matplotlib) (1.2.0)\n",
            "Requirement already satisfied: cycler>=0.10 in c:\\users\\krupa\\anaconda3\\lib\\site-packages (from matplotlib) (0.11.0)\n",
            "Requirement already satisfied: fonttools>=4.22.0 in c:\\users\\krupa\\anaconda3\\lib\\site-packages (from matplotlib) (4.25.0)\n",
            "Requirement already satisfied: kiwisolver>=1.0.1 in c:\\users\\krupa\\anaconda3\\lib\\site-packages (from matplotlib) (1.4.4)\n",
            "Requirement already satisfied: packaging>=20.0 in c:\\users\\krupa\\anaconda3\\lib\\site-packages (from matplotlib) (24.2)\n",
            "Requirement already satisfied: pillow>=6.2.0 in c:\\users\\krupa\\anaconda3\\lib\\site-packages (from matplotlib) (10.2.0)\n",
            "Requirement already satisfied: pyparsing>=2.3.1 in c:\\users\\krupa\\anaconda3\\lib\\site-packages (from matplotlib) (3.0.9)\n",
            "Requirement already satisfied: colorama in c:\\users\\krupa\\anaconda3\\lib\\site-packages (from tqdm) (0.4.6)\n",
            "Requirement already satisfied: lxml>=3.1.0 in c:\\users\\krupa\\anaconda3\\lib\\site-packages (from python-docx) (4.9.3)\n",
            "Requirement already satisfied: typing-extensions>=4.9.0 in c:\\users\\krupa\\anaconda3\\lib\\site-packages (from python-docx) (4.12.2)\n",
            "Requirement already satisfied: six>=1.5 in c:\\users\\krupa\\anaconda3\\lib\\site-packages (from python-dateutil>=2.8.2->pandas) (1.17.0)\n",
            "Note: you may need to restart the kernel to use updated packages.\n"
          ]
        }
      ],
      "source": [
        "%pip install pandas numpy matplotlib seaborn tqdm joblib pymupdf python-magic python-docx"
      ]
    },
    {
      "cell_type": "code",
      "execution_count": 2,
      "metadata": {
        "colab": {
          "base_uri": "https://localhost:8080/"
        },
        "id": "EIp_WjYx523h",
        "outputId": "60374f65-d671-4575-8f83-809f5b02d6fe"
      },
      "outputs": [
        {
          "name": "stdout",
          "output_type": "stream",
          "text": [
            "Requirement already satisfied: scikeras in c:\\users\\krupa\\anaconda3\\lib\\site-packages (0.12.0)\n",
            "Collecting scikit-learn==1.2.2\n",
            "  Using cached scikit_learn-1.2.2-cp311-cp311-win_amd64.whl.metadata (11 kB)\n",
            "Requirement already satisfied: numpy>=1.17.3 in c:\\users\\krupa\\anaconda3\\lib\\site-packages (from scikit-learn==1.2.2) (1.26.4)\n",
            "Requirement already satisfied: scipy>=1.3.2 in c:\\users\\krupa\\anaconda3\\lib\\site-packages (from scikit-learn==1.2.2) (1.11.4)\n",
            "Requirement already satisfied: joblib>=1.1.1 in c:\\users\\krupa\\anaconda3\\lib\\site-packages (from scikit-learn==1.2.2) (1.2.0)\n",
            "Requirement already satisfied: threadpoolctl>=2.0.0 in c:\\users\\krupa\\anaconda3\\lib\\site-packages (from scikit-learn==1.2.2) (3.5.0)\n",
            "Requirement already satisfied: packaging>=0.21 in c:\\users\\krupa\\anaconda3\\lib\\site-packages (from scikeras) (24.2)\n",
            "Requirement already satisfied: tensorflow-io-gcs-filesystem<0.32,>=0.23.1 in c:\\users\\krupa\\anaconda3\\lib\\site-packages (from scikeras) (0.31.0)\n",
            "Using cached scikit_learn-1.2.2-cp311-cp311-win_amd64.whl (8.3 MB)\n",
            "Installing collected packages: scikit-learn\n",
            "  Attempting uninstall: scikit-learn\n",
            "    Found existing installation: scikit-learn 1.6.1\n",
            "    Uninstalling scikit-learn-1.6.1:\n",
            "      Successfully uninstalled scikit-learn-1.6.1\n",
            "Successfully installed scikit-learn-1.2.2\n",
            "Note: you may need to restart the kernel to use updated packages.\n"
          ]
        },
        {
          "name": "stderr",
          "output_type": "stream",
          "text": [
            "ERROR: pip's dependency resolver does not currently take into account all the packages that are installed. This behaviour is the source of the following dependency conflicts.\n",
            "imbalanced-learn 0.13.0 requires scikit-learn<2,>=1.3.2, but you have scikit-learn 1.2.2 which is incompatible.\n"
          ]
        }
      ],
      "source": [
        "pip install scikeras scikit-learn==1.2.2"
      ]
    },
    {
      "cell_type": "code",
      "execution_count": 3,
      "metadata": {
        "colab": {
          "base_uri": "https://localhost:8080/"
        },
        "id": "4ZWXLsUX79-T",
        "outputId": "6fb5cebd-7d1f-49cc-c739-c9daecaee48c"
      },
      "outputs": [
        {
          "name": "stdout",
          "output_type": "stream",
          "text": [
            "Requirement already satisfied: scikit-learn in c:\\users\\krupa\\anaconda3\\lib\\site-packages (1.2.2)\n",
            "Collecting scikit-learn\n",
            "  Using cached scikit_learn-1.6.1-cp311-cp311-win_amd64.whl.metadata (15 kB)\n",
            "Requirement already satisfied: imbalanced-learn in c:\\users\\krupa\\anaconda3\\lib\\site-packages (0.13.0)\n",
            "Requirement already satisfied: numpy>=1.19.5 in c:\\users\\krupa\\anaconda3\\lib\\site-packages (from scikit-learn) (1.26.4)\n",
            "Requirement already satisfied: scipy>=1.6.0 in c:\\users\\krupa\\anaconda3\\lib\\site-packages (from scikit-learn) (1.11.4)\n",
            "Requirement already satisfied: joblib>=1.2.0 in c:\\users\\krupa\\anaconda3\\lib\\site-packages (from scikit-learn) (1.2.0)\n",
            "Requirement already satisfied: threadpoolctl>=3.1.0 in c:\\users\\krupa\\anaconda3\\lib\\site-packages (from scikit-learn) (3.5.0)\n",
            "Requirement already satisfied: sklearn-compat<1,>=0.1 in c:\\users\\krupa\\anaconda3\\lib\\site-packages (from imbalanced-learn) (0.1.3)\n",
            "Using cached scikit_learn-1.6.1-cp311-cp311-win_amd64.whl (11.1 MB)\n",
            "Installing collected packages: scikit-learn\n",
            "  Attempting uninstall: scikit-learn\n",
            "    Found existing installation: scikit-learn 1.2.2\n",
            "    Uninstalling scikit-learn-1.2.2:\n",
            "      Successfully uninstalled scikit-learn-1.2.2\n",
            "Successfully installed scikit-learn-1.6.1\n"
          ]
        }
      ],
      "source": [
        "!pip install -U scikit-learn imbalanced-learn\n"
      ]
    },
    {
      "cell_type": "markdown",
      "metadata": {
        "id": "FbBl1mUcnYyh"
      },
      "source": [
        "# **Data Preprocessing & Feature Engineering**"
      ]
    },
    {
      "cell_type": "markdown",
      "metadata": {
        "id": "CfLTVEDtnjeo"
      },
      "source": [
        "**1. Load & Inspect the Dataset**"
      ]
    },
    {
      "cell_type": "code",
      "execution_count": 4,
      "metadata": {
        "colab": {
          "base_uri": "https://localhost:8080/"
        },
        "id": "ykAHJOHUnehc",
        "outputId": "665005b2-3a81-488b-8a8b-0a98fad452e3"
      },
      "outputs": [
        {
          "name": "stdout",
          "output_type": "stream",
          "text": [
            "           filename    label  header_length  file_size_kb  \\\n",
            "0  file_dataset.csv  unknown           1024       1760.39   \n",
            "1     02eounrel.pdf   benign           1024        387.63   \n",
            "2      02frrltr.pdf   benign           1024        244.92   \n",
            "3      02govbnd.pdf   benign           1024        241.19   \n",
            "4        02solp.pdf   benign           1024        358.99   \n",
            "\n",
            "                  file_type  \\\n",
            "0  application/vnd.ms-excel   \n",
            "1           application/pdf   \n",
            "2           application/pdf   \n",
            "3           application/pdf   \n",
            "4           application/pdf   \n",
            "\n",
            "                                        text_preview  num_pages  is_encrypted  \\\n",
            "0  filename,label,header_length,file_size_kb,file...        NaN           NaN   \n",
            "1                                                NaN       34.0           0.0   \n",
            "2                                                NaN       29.0           0.0   \n",
            "3                                                NaN       34.0           0.0   \n",
            "4                                                NaN       59.0           0.0   \n",
            "\n",
            "  pdf_version  has_javascript  has_embedded_files  has_openaction  has_launch  \n",
            "0         NaN             NaN                 NaN             NaN         NaN  \n",
            "1         1.4             0.0                 0.0             0.0         0.0  \n",
            "2         1.6             0.0                 0.0             0.0         0.0  \n",
            "3         1.4             0.0                 0.0             0.0         0.0  \n",
            "4         1.2             0.0                 0.0             0.0         0.0  \n",
            "<class 'pandas.core.frame.DataFrame'>\n",
            "RangeIndex: 17594 entries, 0 to 17593\n",
            "Data columns (total 13 columns):\n",
            " #   Column              Non-Null Count  Dtype  \n",
            "---  ------              --------------  -----  \n",
            " 0   filename            17594 non-null  object \n",
            " 1   label               17594 non-null  object \n",
            " 2   header_length       17594 non-null  int64  \n",
            " 3   file_size_kb        17594 non-null  float64\n",
            " 4   file_type           17594 non-null  object \n",
            " 5   text_preview        1 non-null      object \n",
            " 6   num_pages           17593 non-null  float64\n",
            " 7   is_encrypted        17593 non-null  float64\n",
            " 8   pdf_version         17333 non-null  object \n",
            " 9   has_javascript      17593 non-null  float64\n",
            " 10  has_embedded_files  17593 non-null  float64\n",
            " 11  has_openaction      17593 non-null  float64\n",
            " 12  has_launch          17593 non-null  float64\n",
            "dtypes: float64(7), int64(1), object(5)\n",
            "memory usage: 1.7+ MB\n",
            "None\n",
            "       header_length  file_size_kb     num_pages  is_encrypted  \\\n",
            "count   17594.000000  17594.000000  17593.000000  17593.000000   \n",
            "mean     1023.914744     74.952376      3.897289      0.004945   \n",
            "std         4.474729    326.916565     11.246103      0.070150   \n",
            "min       679.000000      0.660000      0.000000      0.000000   \n",
            "25%      1024.000000      9.580000      1.000000      0.000000   \n",
            "50%      1024.000000     26.080000      1.000000      0.000000   \n",
            "75%      1024.000000     82.115000      3.000000      0.000000   \n",
            "max      1024.000000  23258.380000    983.000000      1.000000   \n",
            "\n",
            "       has_javascript  has_embedded_files  has_openaction    has_launch  \n",
            "count    17593.000000        17593.000000    17593.000000  17593.000000  \n",
            "mean         0.000182            0.000006        0.000136      0.000119  \n",
            "std          0.013101            0.000754        0.010768      0.010688  \n",
            "min          0.000000            0.000000        0.000000      0.000000  \n",
            "25%          0.000000            0.000000        0.000000      0.000000  \n",
            "50%          0.000000            0.000000        0.000000      0.000000  \n",
            "75%          0.000000            0.000000        0.000000      0.000000  \n",
            "max          1.000000            0.100000        1.000000      1.000000  \n"
          ]
        }
      ],
      "source": [
        "import pandas as pd\n",
        "\n",
        "# Load extracted dataset\n",
        "df = pd.read_csv(r\"D:\\Final_Batch_1\\file_dataset.csv\")\n",
        "\n",
        "# Display first few rows\n",
        "print(df.head())\n",
        "\n",
        "# Check data types and missing values\n",
        "print(df.info())\n",
        "\n",
        "# Summary statistics\n",
        "print(df.describe())\n"
      ]
    },
    {
      "cell_type": "markdown",
      "metadata": {
        "id": "3xCr0I0dnz6a"
      },
      "source": [
        "Loads the dataset into a Pandas DataFrame.\n",
        "\n",
        "Checks data types, missing values, and summary statistics to identify potential issues.\n"
      ]
    },
    {
      "cell_type": "markdown",
      "metadata": {
        "id": "dWlpKNqooEGH"
      },
      "source": [
        "2. Handling Missing Values"
      ]
    },
    {
      "cell_type": "code",
      "execution_count": 5,
      "metadata": {
        "colab": {
          "base_uri": "https://localhost:8080/"
        },
        "id": "IOOvLSkun-D7",
        "outputId": "13f241e0-9316-45ec-ae50-4d9ea1f7fec9"
      },
      "outputs": [
        {
          "name": "stdout",
          "output_type": "stream",
          "text": [
            "filename                  0\n",
            "label                     0\n",
            "header_length             0\n",
            "file_size_kb              0\n",
            "file_type                 0\n",
            "text_preview          17593\n",
            "num_pages                 1\n",
            "is_encrypted              1\n",
            "pdf_version             261\n",
            "has_javascript            1\n",
            "has_embedded_files        1\n",
            "has_openaction            1\n",
            "has_launch                1\n",
            "dtype: int64\n",
            "filename              0\n",
            "label                 0\n",
            "header_length         0\n",
            "file_size_kb          0\n",
            "file_type             0\n",
            "text_preview          0\n",
            "num_pages             0\n",
            "is_encrypted          0\n",
            "pdf_version           0\n",
            "has_javascript        0\n",
            "has_embedded_files    0\n",
            "has_openaction        0\n",
            "has_launch            0\n",
            "dtype: int64\n"
          ]
        }
      ],
      "source": [
        "# Count missing values in each column\n",
        "print(df.isnull().sum())\n",
        "\n",
        "# Fill missing values with appropriate methods\n",
        "df.fillna(0, inplace=True)  # Replacing NaN with 0\n",
        "\n",
        "# Verify if missing values are handled\n",
        "print(df.isnull().sum())"
      ]
    },
    {
      "cell_type": "markdown",
      "metadata": {
        "id": "tLG0ziYlolFv"
      },
      "source": [
        "Machine learning models cannot handle missing values directly.\n",
        "\n",
        "If the missing values are too many, we can consider dropping the column."
      ]
    },
    {
      "cell_type": "markdown",
      "metadata": {
        "id": "uNIWxVD6ozx3"
      },
      "source": [
        "**3. Convert Categorical Labels to Numeric**"
      ]
    },
    {
      "cell_type": "code",
      "execution_count": 6,
      "metadata": {
        "colab": {
          "base_uri": "https://localhost:8080/"
        },
        "id": "fVZCBXi3o5kP",
        "outputId": "3ceca11e-1ffc-4d3a-e8f5-0aa6365eeb1c"
      },
      "outputs": [
        {
          "name": "stdout",
          "output_type": "stream",
          "text": [
            "label\n",
            "0    9107\n",
            "1    8486\n",
            "2       1\n",
            "Name: count, dtype: int64\n"
          ]
        }
      ],
      "source": [
        "from sklearn.preprocessing import LabelEncoder\n",
        "\n",
        "# Convert 'label' column (benign/malicious) to numbers\n",
        "encoder = LabelEncoder()\n",
        "df[\"label\"] = encoder.fit_transform(df[\"label\"])  # benign → 0, malicious → 1\n",
        "\n",
        "# Verify conversion\n",
        "print(df[\"label\"].value_counts())  # Check distribution\n"
      ]
    },
    {
      "cell_type": "markdown",
      "metadata": {
        "id": "5OBCi_pGo_nE"
      },
      "source": [
        "**4. Feature Selection & Removing Unnecessary Columns**"
      ]
    },
    {
      "cell_type": "code",
      "execution_count": 7,
      "metadata": {
        "colab": {
          "base_uri": "https://localhost:8080/"
        },
        "id": "gAT7o2hopEPQ",
        "outputId": "c3608afb-264e-4df9-e4ba-2cc9a3af5ebd"
      },
      "outputs": [
        {
          "name": "stdout",
          "output_type": "stream",
          "text": [
            "<class 'pandas.core.frame.DataFrame'>\n",
            "RangeIndex: 17594 entries, 0 to 17593\n",
            "Data columns (total 12 columns):\n",
            " #   Column              Non-Null Count  Dtype  \n",
            "---  ------              --------------  -----  \n",
            " 0   label               17594 non-null  int32  \n",
            " 1   header_length       17594 non-null  int64  \n",
            " 2   file_size_kb        17594 non-null  float64\n",
            " 3   file_type           17594 non-null  object \n",
            " 4   text_preview        17594 non-null  object \n",
            " 5   num_pages           17594 non-null  float64\n",
            " 6   is_encrypted        17594 non-null  float64\n",
            " 7   pdf_version         17594 non-null  object \n",
            " 8   has_javascript      17594 non-null  float64\n",
            " 9   has_embedded_files  17594 non-null  float64\n",
            " 10  has_openaction      17594 non-null  float64\n",
            " 11  has_launch          17594 non-null  float64\n",
            "dtypes: float64(7), int32(1), int64(1), object(3)\n",
            "memory usage: 1.5+ MB\n",
            "None\n"
          ]
        }
      ],
      "source": [
        "# Drop non-relevant columns\n",
        "df = df.drop(columns=[\"filename\"], errors=\"ignore\")\n",
        "\n",
        "# Check new dataset structure\n",
        "print(df.info())\n"
      ]
    },
    {
      "cell_type": "markdown",
      "metadata": {
        "id": "pfHcuA-opKuM"
      },
      "source": [
        "The \"filename\" column does not contribute to malware detection.\n",
        "\n",
        "Only keeps meaningful features."
      ]
    },
    {
      "cell_type": "markdown",
      "metadata": {
        "id": "zxXjYIaEpP3g"
      },
      "source": [
        "**5. Feature Scaling**"
      ]
    },
    {
      "cell_type": "markdown",
      "metadata": {
        "id": "fYpJdc3fpTS7"
      },
      "source": [
        "Identify and drop Non-Numeric Columns"
      ]
    },
    {
      "cell_type": "code",
      "execution_count": 8,
      "metadata": {
        "colab": {
          "base_uri": "https://localhost:8080/"
        },
        "id": "RU09os-NpWvi",
        "outputId": "7b557d4d-183f-4ce8-9885-bb892161eda4"
      },
      "outputs": [
        {
          "name": "stdout",
          "output_type": "stream",
          "text": [
            "label                   int32\n",
            "header_length           int64\n",
            "file_size_kb          float64\n",
            "file_type              object\n",
            "text_preview           object\n",
            "num_pages             float64\n",
            "is_encrypted          float64\n",
            "pdf_version            object\n",
            "has_javascript        float64\n",
            "has_embedded_files    float64\n",
            "has_openaction        float64\n",
            "has_launch            float64\n",
            "dtype: object\n",
            "🛑 Non-numeric columns: Index(['file_type', 'text_preview', 'pdf_version'], dtype='object')\n"
          ]
        }
      ],
      "source": [
        "# Check data types\n",
        "print(df.dtypes)\n",
        "\n",
        "# Find columns that are not numeric\n",
        "non_numeric_cols = df.select_dtypes(include=[\"object\"]).columns\n",
        "print(\"🛑 Non-numeric columns:\", non_numeric_cols)\n"
      ]
    },
    {
      "cell_type": "code",
      "execution_count": 9,
      "metadata": {
        "id": "timhsHkypfL1"
      },
      "outputs": [],
      "source": [
        "# Drop non-numeric columns\n",
        "df = df.drop(columns=non_numeric_cols, errors=\"ignore\")"
      ]
    },
    {
      "cell_type": "markdown",
      "metadata": {
        "id": "sS23QJk7pcHh"
      },
      "source": [
        "\n",
        "**6. Scaling**"
      ]
    },
    {
      "cell_type": "code",
      "execution_count": 10,
      "metadata": {
        "colab": {
          "base_uri": "https://localhost:8080/"
        },
        "id": "ukqlq7vZpq7v",
        "outputId": "8003eae3-15bd-4797-d668-48e25b4e64a0"
      },
      "outputs": [
        {
          "name": "stdout",
          "output_type": "stream",
          "text": [
            "✅ Data successfully preprocessed and scaled!\n"
          ]
        }
      ],
      "source": [
        "from sklearn.preprocessing import StandardScaler\n",
        "\n",
        "# Select features and target again\n",
        "X = df.drop(columns=[\"label\"])  # Features\n",
        "y = df[\"label\"]  # Target variable\n",
        "\n",
        "# Apply Standard Scaling\n",
        "scaler = StandardScaler()\n",
        "X_scaled = scaler.fit_transform(X)\n",
        "\n",
        "# Convert back to DataFrame\n",
        "X = pd.DataFrame(X_scaled, columns=X.columns)\n",
        "\n",
        "print(\"✅ Data successfully preprocessed and scaled!\")\n"
      ]
    },
    {
      "cell_type": "markdown",
      "metadata": {
        "id": "0MtRH0EDpwU8"
      },
      "source": [
        " ***6.Split Data for Training & Testing***"
      ]
    },
    {
      "cell_type": "code",
      "execution_count": 11,
      "metadata": {
        "colab": {
          "base_uri": "https://localhost:8080/"
        },
        "id": "JmvgSjmcp10x",
        "outputId": "15b10e4e-a036-4a4a-9683-8a6a3c439d03"
      },
      "outputs": [
        {
          "name": "stdout",
          "output_type": "stream",
          "text": [
            "Training samples: 14075, Testing samples: 3519\n"
          ]
        }
      ],
      "source": [
        "from sklearn.model_selection import train_test_split\n",
        "\n",
        "# Split dataset\n",
        "X_train, X_test, y_train, y_test = train_test_split(X, y, test_size=0.2, random_state=42)\n",
        "\n",
        "print(f\"Training samples: {X_train.shape[0]}, Testing samples: {X_test.shape[0]}\")\n"
      ]
    },
    {
      "cell_type": "markdown",
      "metadata": {
        "id": "36Nqc8wzp4-J"
      },
      "source": [
        "* 80% is used to train the models.\n",
        "- 20% is used for evaluation.\n",
        "- This prevents overfitting."
      ]
    },
    {
      "cell_type": "markdown",
      "metadata": {
        "id": "2QKCv-mtqDS4"
      },
      "source": [
        "# **Model Training & Evaluation**"
      ]
    },
    {
      "cell_type": "markdown",
      "metadata": {
        "id": "dZnks5YOqGz5"
      },
      "source": [
        "Train Multiple Models\n",
        "- Random Forest\n",
        "- SVM\n",
        "- AdaBoost\n",
        "- Gradient Descent\n",
        "- DNN\n"
      ]
    },
    {
      "cell_type": "markdown",
      "metadata": {
        "id": "sx467qh_qJta"
      },
      "source": [
        "1. Random Forest Implementation"
      ]
    },
    {
      "cell_type": "code",
      "execution_count": 12,
      "metadata": {
        "colab": {
          "base_uri": "https://localhost:8080/"
        },
        "id": "jX8m6IRKqQY4",
        "outputId": "0f2bd15c-665d-4a54-c6b9-34bcd33e759d"
      },
      "outputs": [
        {
          "name": "stdout",
          "output_type": "stream",
          "text": [
            "\n",
            "📌 Random Forest Performance:\n",
            "Accuracy: 0.9039\n",
            "AUC-ROC: 0.9580\n",
            "              precision    recall  f1-score   support\n",
            "\n",
            "           0       0.90      0.91      0.91      1806\n",
            "           1       0.91      0.90      0.90      1713\n",
            "\n",
            "    accuracy                           0.90      3519\n",
            "   macro avg       0.90      0.90      0.90      3519\n",
            "weighted avg       0.90      0.90      0.90      3519\n",
            "\n",
            "✅ Random Forest Model Saved!\n"
          ]
        }
      ],
      "source": [
        "from sklearn.ensemble import RandomForestClassifier\n",
        "from sklearn.metrics import accuracy_score, classification_report, roc_auc_score\n",
        "\n",
        "# Initialize Random Forest\n",
        "rf_model = RandomForestClassifier(n_estimators=100, random_state=42)\n",
        "\n",
        "# Train the model\n",
        "rf_model.fit(X_train, y_train)\n",
        "\n",
        "# Predictions\n",
        "y_pred_rf = rf_model.predict(X_test)\n",
        "y_proba_rf = rf_model.predict_proba(X_test)[:, 1]\n",
        "\n",
        "# Evaluate performance\n",
        "print(\"\\n📌 Random Forest Performance:\")\n",
        "print(f\"Accuracy: {accuracy_score(y_test, y_pred_rf):.4f}\")\n",
        "print(f\"AUC-ROC: {roc_auc_score(y_test, y_proba_rf):.4f}\")\n",
        "print(classification_report(y_test, y_pred_rf))\n",
        "\n",
        "# Save the model\n",
        "import joblib\n",
        "joblib.dump(rf_model, \"random_forest_model.pkl\")\n",
        "print(\"✅ Random Forest Model Saved!\")"
      ]
    },
    {
      "cell_type": "markdown",
      "metadata": {
        "id": "o-vTF0rpqMme"
      },
      "source": [
        "**2. Support Vector Machine (SVM) Implementation**"
      ]
    },
    {
      "cell_type": "code",
      "execution_count": 13,
      "metadata": {
        "colab": {
          "base_uri": "https://localhost:8080/"
        },
        "id": "VP2JR9xnqYbx",
        "outputId": "9a3e39ce-3e37-4ae4-a324-333cdfbd15ad"
      },
      "outputs": [
        {
          "name": "stdout",
          "output_type": "stream",
          "text": [
            "\n",
            "📌 SVM Performance:\n",
            "Accuracy: 0.8485\n",
            "AUC-ROC: 0.9138\n",
            "              precision    recall  f1-score   support\n",
            "\n",
            "           0       0.85      0.85      0.85      1806\n",
            "           1       0.84      0.84      0.84      1713\n",
            "\n",
            "    accuracy                           0.85      3519\n",
            "   macro avg       0.85      0.85      0.85      3519\n",
            "weighted avg       0.85      0.85      0.85      3519\n",
            "\n",
            "✅ SVM Model Saved!\n"
          ]
        }
      ],
      "source": [
        "from sklearn.svm import SVC\n",
        "\n",
        "# Initialize SVM with RBF kernel\n",
        "svm_model = SVC(kernel='rbf', probability=True, random_state=42)\n",
        "\n",
        "# Train the model\n",
        "svm_model.fit(X_train, y_train)\n",
        "\n",
        "# Predictions\n",
        "y_pred_svm = svm_model.predict(X_test)\n",
        "y_proba_svm = svm_model.predict_proba(X_test)[:, 1]\n",
        "\n",
        "# Evaluate performance\n",
        "print(\"\\n📌 SVM Performance:\")\n",
        "print(f\"Accuracy: {accuracy_score(y_test, y_pred_svm):.4f}\")\n",
        "print(f\"AUC-ROC: {roc_auc_score(y_test, y_proba_svm):.4f}\")\n",
        "print(classification_report(y_test, y_pred_svm))\n",
        "\n",
        "# Save the model\n",
        "joblib.dump(svm_model, \"svm_model.pkl\")\n",
        "print(\"✅ SVM Model Saved!\")\n"
      ]
    },
    {
      "cell_type": "markdown",
      "metadata": {
        "id": "5alQpFsdqbYj"
      },
      "source": [
        "**3. AdaBoost Implementation**"
      ]
    },
    {
      "cell_type": "code",
      "execution_count": 14,
      "metadata": {
        "colab": {
          "base_uri": "https://localhost:8080/"
        },
        "id": "_ynkMeofqgS-",
        "outputId": "f71d3ff3-3875-44bd-9098-e9ece2483f67"
      },
      "outputs": [
        {
          "name": "stdout",
          "output_type": "stream",
          "text": [
            "\n",
            "📌 AdaBoost Performance:\n",
            "Accuracy: 0.8724\n",
            "AUC-ROC: 0.9360\n",
            "              precision    recall  f1-score   support\n",
            "\n",
            "           0       0.89      0.86      0.87      1806\n",
            "           1       0.86      0.88      0.87      1713\n",
            "\n",
            "    accuracy                           0.87      3519\n",
            "   macro avg       0.87      0.87      0.87      3519\n",
            "weighted avg       0.87      0.87      0.87      3519\n",
            "\n",
            "✅ AdaBoost Model Saved!\n"
          ]
        }
      ],
      "source": [
        "from sklearn.ensemble import AdaBoostClassifier\n",
        "\n",
        "# Initialize AdaBoost\n",
        "ada_model = AdaBoostClassifier(n_estimators=100, random_state=42)\n",
        "\n",
        "# Train the model\n",
        "ada_model.fit(X_train, y_train)\n",
        "\n",
        "# Predictions\n",
        "y_pred_ada = ada_model.predict(X_test)\n",
        "y_proba_ada = ada_model.predict_proba(X_test)[:, 1]\n",
        "\n",
        "# Evaluate performance\n",
        "print(\"\\n📌 AdaBoost Performance:\")\n",
        "print(f\"Accuracy: {accuracy_score(y_test, y_pred_ada):.4f}\")\n",
        "print(f\"AUC-ROC: {roc_auc_score(y_test, y_proba_ada):.4f}\")\n",
        "print(classification_report(y_test, y_pred_ada))\n",
        "\n",
        "# Save the model\n",
        "joblib.dump(ada_model, \"adaboost_model.pkl\")\n",
        "print(\"✅ AdaBoost Model Saved!\")\n"
      ]
    },
    {
      "cell_type": "markdown",
      "metadata": {
        "id": "2BxMcFT9qjzU"
      },
      "source": [
        "**4. Gradient Boosting Implementation**"
      ]
    },
    {
      "cell_type": "code",
      "execution_count": 15,
      "metadata": {
        "colab": {
          "base_uri": "https://localhost:8080/"
        },
        "id": "-zK-tLldqrjY",
        "outputId": "0fd5d3fb-0bd2-4d9f-e3bb-fa1cafc4762d"
      },
      "outputs": [
        {
          "name": "stdout",
          "output_type": "stream",
          "text": [
            "\n",
            "📌 Gradient Boosting Performance:\n",
            "Accuracy: 0.9173\n",
            "AUC-ROC: 0.9686\n",
            "              precision    recall  f1-score   support\n",
            "\n",
            "           0       0.89      0.96      0.92      1806\n",
            "           1       0.96      0.87      0.91      1713\n",
            "\n",
            "    accuracy                           0.92      3519\n",
            "   macro avg       0.92      0.92      0.92      3519\n",
            "weighted avg       0.92      0.92      0.92      3519\n",
            "\n",
            "✅ Gradient Boosting Model Saved!\n"
          ]
        }
      ],
      "source": [
        "from sklearn.ensemble import GradientBoostingClassifier\n",
        "\n",
        "# Initialize Gradient Boosting\n",
        "gb_model = GradientBoostingClassifier(n_estimators=100, random_state=42)\n",
        "\n",
        "# Train the model\n",
        "gb_model.fit(X_train, y_train)\n",
        "\n",
        "# Predictions\n",
        "y_pred_gb = gb_model.predict(X_test)\n",
        "y_proba_gb = gb_model.predict_proba(X_test)[:, 1]\n",
        "\n",
        "# Evaluate performance\n",
        "print(\"\\n📌 Gradient Boosting Performance:\")\n",
        "print(f\"Accuracy: {accuracy_score(y_test, y_pred_gb):.4f}\")\n",
        "print(f\"AUC-ROC: {roc_auc_score(y_test, y_proba_gb):.4f}\")\n",
        "print(classification_report(y_test, y_pred_gb))\n",
        "\n",
        "# Save the model\n",
        "joblib.dump(gb_model, \"gradient_boosting_model.pkl\")\n",
        "print(\"✅ Gradient Boosting Model Saved!\")\n"
      ]
    },
    {
      "cell_type": "markdown",
      "metadata": {
        "id": "hOzEEkcHqvm1"
      },
      "source": [
        "**5. Deep Neural Network (DNN)**"
      ]
    },
    {
      "cell_type": "code",
      "execution_count": 16,
      "metadata": {
        "colab": {
          "base_uri": "https://localhost:8080/"
        },
        "id": "5ntR-5F5q176",
        "outputId": "33f99aed-8d88-457a-8c9a-44fb24e7626d"
      },
      "outputs": [
        {
          "name": "stderr",
          "output_type": "stream",
          "text": [
            "c:\\Users\\krupa\\anaconda3\\Lib\\site-packages\\keras\\src\\layers\\core\\dense.py:87: UserWarning: Do not pass an `input_shape`/`input_dim` argument to a layer. When using Sequential models, prefer using an `Input(shape)` object as the first layer in the model instead.\n",
            "  super().__init__(activity_regularizer=activity_regularizer, **kwargs)\n"
          ]
        },
        {
          "name": "stdout",
          "output_type": "stream",
          "text": [
            "Epoch 1/30\n",
            "\u001b[1m440/440\u001b[0m \u001b[32m━━━━━━━━━━━━━━━━━━━━\u001b[0m\u001b[37m\u001b[0m \u001b[1m3s\u001b[0m 4ms/step - accuracy: 0.7615 - loss: 0.5463 - val_accuracy: 0.8471 - val_loss: 0.3744\n",
            "Epoch 2/30\n",
            "\u001b[1m440/440\u001b[0m \u001b[32m━━━━━━━━━━━━━━━━━━━━\u001b[0m\u001b[37m\u001b[0m \u001b[1m2s\u001b[0m 5ms/step - accuracy: 0.8615 - loss: 0.3697 - val_accuracy: 0.8477 - val_loss: 0.3479\n",
            "Epoch 3/30\n",
            "\u001b[1m440/440\u001b[0m \u001b[32m━━━━━━━━━━━━━━━━━━━━\u001b[0m\u001b[37m\u001b[0m \u001b[1m2s\u001b[0m 4ms/step - accuracy: 0.8661 - loss: 0.3579 - val_accuracy: 0.8554 - val_loss: 0.3351\n",
            "Epoch 4/30\n",
            "\u001b[1m440/440\u001b[0m \u001b[32m━━━━━━━━━━━━━━━━━━━━\u001b[0m\u001b[37m\u001b[0m \u001b[1m1s\u001b[0m 3ms/step - accuracy: 0.8771 - loss: 0.3215 - val_accuracy: 0.8679 - val_loss: 0.3199\n",
            "Epoch 5/30\n",
            "\u001b[1m440/440\u001b[0m \u001b[32m━━━━━━━━━━━━━━━━━━━━\u001b[0m\u001b[37m\u001b[0m \u001b[1m2s\u001b[0m 4ms/step - accuracy: 0.8772 - loss: 0.3245 - val_accuracy: 0.8747 - val_loss: 0.3104\n",
            "Epoch 6/30\n",
            "\u001b[1m440/440\u001b[0m \u001b[32m━━━━━━━━━━━━━━━━━━━━\u001b[0m\u001b[37m\u001b[0m \u001b[1m2s\u001b[0m 5ms/step - accuracy: 0.8888 - loss: 0.3003 - val_accuracy: 0.8809 - val_loss: 0.3000\n",
            "Epoch 7/30\n",
            "\u001b[1m440/440\u001b[0m \u001b[32m━━━━━━━━━━━━━━━━━━━━\u001b[0m\u001b[37m\u001b[0m \u001b[1m2s\u001b[0m 4ms/step - accuracy: 0.8892 - loss: 0.3028 - val_accuracy: 0.8866 - val_loss: 0.2954\n",
            "Epoch 8/30\n",
            "\u001b[1m440/440\u001b[0m \u001b[32m━━━━━━━━━━━━━━━━━━━━\u001b[0m\u001b[37m\u001b[0m \u001b[1m1s\u001b[0m 3ms/step - accuracy: 0.9011 - loss: 0.2828 - val_accuracy: 0.8903 - val_loss: 0.2933\n",
            "Epoch 9/30\n",
            "\u001b[1m440/440\u001b[0m \u001b[32m━━━━━━━━━━━━━━━━━━━━\u001b[0m\u001b[37m\u001b[0m \u001b[1m1s\u001b[0m 3ms/step - accuracy: 0.8934 - loss: 0.2952 - val_accuracy: 0.8912 - val_loss: 0.2924\n",
            "Epoch 10/30\n",
            "\u001b[1m440/440\u001b[0m \u001b[32m━━━━━━━━━━━━━━━━━━━━\u001b[0m\u001b[37m\u001b[0m \u001b[1m2s\u001b[0m 5ms/step - accuracy: 0.8976 - loss: 0.2890 - val_accuracy: 0.8892 - val_loss: 0.2920\n",
            "Epoch 11/30\n",
            "\u001b[1m440/440\u001b[0m \u001b[32m━━━━━━━━━━━━━━━━━━━━\u001b[0m\u001b[37m\u001b[0m \u001b[1m2s\u001b[0m 4ms/step - accuracy: 0.8914 - loss: 0.2969 - val_accuracy: 0.8966 - val_loss: 0.2878\n",
            "Epoch 12/30\n",
            "\u001b[1m440/440\u001b[0m \u001b[32m━━━━━━━━━━━━━━━━━━━━\u001b[0m\u001b[37m\u001b[0m \u001b[1m2s\u001b[0m 4ms/step - accuracy: 0.9038 - loss: 0.2735 - val_accuracy: 0.8966 - val_loss: 0.2887\n",
            "Epoch 13/30\n",
            "\u001b[1m440/440\u001b[0m \u001b[32m━━━━━━━━━━━━━━━━━━━━\u001b[0m\u001b[37m\u001b[0m \u001b[1m2s\u001b[0m 5ms/step - accuracy: 0.8984 - loss: 0.2864 - val_accuracy: 0.8971 - val_loss: 0.2856\n",
            "Epoch 14/30\n",
            "\u001b[1m440/440\u001b[0m \u001b[32m━━━━━━━━━━━━━━━━━━━━\u001b[0m\u001b[37m\u001b[0m \u001b[1m2s\u001b[0m 4ms/step - accuracy: 0.9038 - loss: 0.2852 - val_accuracy: 0.9005 - val_loss: 0.2858\n",
            "Epoch 15/30\n",
            "\u001b[1m440/440\u001b[0m \u001b[32m━━━━━━━━━━━━━━━━━━━━\u001b[0m\u001b[37m\u001b[0m \u001b[1m3s\u001b[0m 6ms/step - accuracy: 0.9044 - loss: 0.2711 - val_accuracy: 0.9008 - val_loss: 0.2832\n",
            "Epoch 16/30\n",
            "\u001b[1m440/440\u001b[0m \u001b[32m━━━━━━━━━━━━━━━━━━━━\u001b[0m\u001b[37m\u001b[0m \u001b[1m2s\u001b[0m 5ms/step - accuracy: 0.9053 - loss: 0.2749 - val_accuracy: 0.9014 - val_loss: 0.2792\n",
            "Epoch 17/30\n",
            "\u001b[1m440/440\u001b[0m \u001b[32m━━━━━━━━━━━━━━━━━━━━\u001b[0m\u001b[37m\u001b[0m \u001b[1m3s\u001b[0m 6ms/step - accuracy: 0.9082 - loss: 0.2760 - val_accuracy: 0.9028 - val_loss: 0.2796\n",
            "Epoch 18/30\n",
            "\u001b[1m440/440\u001b[0m \u001b[32m━━━━━━━━━━━━━━━━━━━━\u001b[0m\u001b[37m\u001b[0m \u001b[1m2s\u001b[0m 5ms/step - accuracy: 0.9034 - loss: 0.2759 - val_accuracy: 0.9014 - val_loss: 0.2773\n",
            "Epoch 19/30\n",
            "\u001b[1m440/440\u001b[0m \u001b[32m━━━━━━━━━━━━━━━━━━━━\u001b[0m\u001b[37m\u001b[0m \u001b[1m1s\u001b[0m 3ms/step - accuracy: 0.9037 - loss: 0.2754 - val_accuracy: 0.9031 - val_loss: 0.2760\n",
            "Epoch 20/30\n",
            "\u001b[1m440/440\u001b[0m \u001b[32m━━━━━━━━━━━━━━━━━━━━\u001b[0m\u001b[37m\u001b[0m \u001b[1m2s\u001b[0m 3ms/step - accuracy: 0.9036 - loss: 0.2741 - val_accuracy: 0.8963 - val_loss: 0.2858\n",
            "Epoch 21/30\n",
            "\u001b[1m440/440\u001b[0m \u001b[32m━━━━━━━━━━━━━━━━━━━━\u001b[0m\u001b[37m\u001b[0m \u001b[1m2s\u001b[0m 4ms/step - accuracy: 0.9035 - loss: 0.2798 - val_accuracy: 0.9011 - val_loss: 0.2776\n",
            "Epoch 22/30\n",
            "\u001b[1m440/440\u001b[0m \u001b[32m━━━━━━━━━━━━━━━━━━━━\u001b[0m\u001b[37m\u001b[0m \u001b[1m2s\u001b[0m 4ms/step - accuracy: 0.9021 - loss: 0.2750 - val_accuracy: 0.9000 - val_loss: 0.2770\n",
            "Epoch 23/30\n",
            "\u001b[1m440/440\u001b[0m \u001b[32m━━━━━━━━━━━━━━━━━━━━\u001b[0m\u001b[37m\u001b[0m \u001b[1m2s\u001b[0m 5ms/step - accuracy: 0.9062 - loss: 0.2684 - val_accuracy: 0.9000 - val_loss: 0.2790\n",
            "Epoch 24/30\n",
            "\u001b[1m440/440\u001b[0m \u001b[32m━━━━━━━━━━━━━━━━━━━━\u001b[0m\u001b[37m\u001b[0m \u001b[1m2s\u001b[0m 5ms/step - accuracy: 0.9016 - loss: 0.2909 - val_accuracy: 0.9054 - val_loss: 0.2717\n",
            "Epoch 25/30\n",
            "\u001b[1m440/440\u001b[0m \u001b[32m━━━━━━━━━━━━━━━━━━━━\u001b[0m\u001b[37m\u001b[0m \u001b[1m2s\u001b[0m 5ms/step - accuracy: 0.9054 - loss: 0.2671 - val_accuracy: 0.9039 - val_loss: 0.2736\n",
            "Epoch 26/30\n",
            "\u001b[1m440/440\u001b[0m \u001b[32m━━━━━━━━━━━━━━━━━━━━\u001b[0m\u001b[37m\u001b[0m \u001b[1m3s\u001b[0m 6ms/step - accuracy: 0.9061 - loss: 0.2724 - val_accuracy: 0.9042 - val_loss: 0.2722\n",
            "Epoch 27/30\n",
            "\u001b[1m440/440\u001b[0m \u001b[32m━━━━━━━━━━━━━━━━━━━━\u001b[0m\u001b[37m\u001b[0m \u001b[1m1s\u001b[0m 3ms/step - accuracy: 0.9060 - loss: 0.2631 - val_accuracy: 0.9031 - val_loss: 0.2750\n",
            "Epoch 28/30\n",
            "\u001b[1m440/440\u001b[0m \u001b[32m━━━━━━━━━━━━━━━━━━━━\u001b[0m\u001b[37m\u001b[0m \u001b[1m2s\u001b[0m 4ms/step - accuracy: 0.9025 - loss: 0.2785 - val_accuracy: 0.9037 - val_loss: 0.2719\n",
            "Epoch 29/30\n",
            "\u001b[1m440/440\u001b[0m \u001b[32m━━━━━━━━━━━━━━━━━━━━\u001b[0m\u001b[37m\u001b[0m \u001b[1m2s\u001b[0m 4ms/step - accuracy: 0.9082 - loss: 0.2672 - val_accuracy: 0.9028 - val_loss: 0.2726\n",
            "Epoch 30/30\n",
            "\u001b[1m440/440\u001b[0m \u001b[32m━━━━━━━━━━━━━━━━━━━━\u001b[0m\u001b[37m\u001b[0m \u001b[1m2s\u001b[0m 4ms/step - accuracy: 0.9020 - loss: 0.2765 - val_accuracy: 0.9022 - val_loss: 0.2726\n",
            "\u001b[1m110/110\u001b[0m \u001b[32m━━━━━━━━━━━━━━━━━━━━\u001b[0m\u001b[37m\u001b[0m \u001b[1m0s\u001b[0m 3ms/step\n"
          ]
        },
        {
          "name": "stderr",
          "output_type": "stream",
          "text": [
            "WARNING:absl:You are saving your model as an HDF5 file via `model.save()` or `keras.saving.save_model(model)`. This file format is considered legacy. We recommend using instead the native Keras format, e.g. `model.save('my_model.keras')` or `keras.saving.save_model(model, 'my_model.keras')`. \n"
          ]
        },
        {
          "name": "stdout",
          "output_type": "stream",
          "text": [
            "\n",
            "🏆 Deep Learning Model AUC: 0.9484\n",
            "✅ Deep Neural Network Model Saved!\n"
          ]
        }
      ],
      "source": [
        "import tensorflow as tf\n",
        "from tensorflow.keras.models import Sequential\n",
        "from tensorflow.keras.layers import Dense, Dropout\n",
        "from tensorflow.keras.optimizers import Adam\n",
        "\n",
        "dnn_model = Sequential([\n",
        "    Dense(128, activation=\"relu\", input_shape=(X_train.shape[1],)),\n",
        "    Dropout(0.3),\n",
        "    Dense(64, activation=\"relu\"),\n",
        "    Dropout(0.3),\n",
        "    Dense(1, activation=\"sigmoid\")\n",
        "])\n",
        "\n",
        "dnn_model.compile(optimizer=Adam(learning_rate=0.001), loss=\"binary_crossentropy\", metrics=[\"accuracy\"])\n",
        "\n",
        "history = dnn_model.fit(X_train, y_train, validation_data=(X_test, y_test), epochs=30, batch_size=32, verbose=1)\n",
        "\n",
        "y_proba_dnn = dnn_model.predict(X_test).flatten()\n",
        "auc_dnn = roc_auc_score(y_test, y_proba_dnn)\n",
        "\n",
        "print(f\"\\n🏆 Deep Learning Model AUC: {auc_dnn:.4f}\")\n",
        "\n",
        "dnn_model.save(\"dnn_pdf_malware_model.h5\")\n",
        "print(\"✅ Deep Neural Network Model Saved!\")\n"
      ]
    },
    {
      "cell_type": "markdown",
      "metadata": {
        "id": "rKh-cCusrYz8"
      },
      "source": [
        "**6. Compare All Models & Select the Best**"
      ]
    },
    {
      "cell_type": "code",
      "execution_count": 17,
      "metadata": {
        "colab": {
          "base_uri": "https://localhost:8080/"
        },
        "id": "9pyu7WhjrfsR",
        "outputId": "2ea0d9ee-2002-49b4-b858-128931702257"
      },
      "outputs": [
        {
          "name": "stdout",
          "output_type": "stream",
          "text": [
            "\n",
            "🏆 Best Model: Gradient Boosting with AUC: 0.9686\n"
          ]
        }
      ],
      "source": [
        "models = {\n",
        "    \"Random Forest\": (rf_model, y_proba_rf),\n",
        "    \"SVM\": (svm_model, y_proba_svm),\n",
        "    \"AdaBoost\": (ada_model, y_proba_ada),\n",
        "    \"Gradient Boosting\": (gb_model, y_proba_gb)\n",
        "}\n",
        "\n",
        "# Find the best model based on AUC-ROC\n",
        "best_model = max(models.items(), key=lambda x: roc_auc_score(y_test, x[1][1]))\n",
        "print(f\"\\n🏆 Best Model: {best_model[0]} with AUC: {roc_auc_score(y_test, best_model[1][1]):.4f}\")\n"
      ]
    },
    {
      "cell_type": "markdown",
      "metadata": {
        "id": "r712--gDtU2c"
      },
      "source": [
        "# **Hyperparameter Optimization**"
      ]
    },
    {
      "cell_type": "markdown",
      "metadata": {
        "id": "NcIKiTzmtWGg"
      },
      "source": [
        "**Installations**"
      ]
    },
    {
      "cell_type": "code",
      "execution_count": 18,
      "metadata": {
        "id": "CL_Y4DtRtdKe"
      },
      "outputs": [],
      "source": [
        "import numpy as np\n",
        "import pandas as pd\n",
        "import joblib\n",
        "from imblearn.over_sampling import SMOTE\n",
        "from sklearn.model_selection import GridSearchCV, StratifiedKFold, train_test_split\n",
        "from sklearn.metrics import accuracy_score, classification_report, roc_auc_score"
      ]
    },
    {
      "cell_type": "markdown",
      "metadata": {
        "id": "YZv3L-Xit1uc"
      },
      "source": [
        "2. Load & Check Class Distribution"
      ]
    },
    {
      "cell_type": "code",
      "execution_count": 19,
      "metadata": {
        "colab": {
          "base_uri": "https://localhost:8080/"
        },
        "id": "1qQuIYGEt6Z2",
        "outputId": "6d3caca2-eef1-468c-864e-d522145c9f1f"
      },
      "outputs": [
        {
          "name": "stdout",
          "output_type": "stream",
          "text": [
            "Class Distribution Before Removing Rare Classes: {'benign': 9107, 'malicious': 8486, 'unknown': 1}\n",
            "Class Distribution After Removing Rare Classes: {'benign': 9107, 'malicious': 8486}\n",
            "✅ Train-Test Split Completed Successfully!\n"
          ]
        }
      ],
      "source": [
        "# Load dataset\n",
        "df = pd.read_csv(r\"D:\\Final_Batch_1\\file_dataset.csv\")\n",
        "\n",
        "# Drop non-feature columns\n",
        "X = df.drop(columns=[\"label\", \"filename\"], errors=\"ignore\")\n",
        "y = df[\"label\"]\n",
        "\n",
        "# Check class distribution\n",
        "unique, counts = np.unique(y, return_counts=True)\n",
        "print(\"Class Distribution Before Removing Rare Classes:\", dict(zip(unique, counts)))\n",
        "\n",
        "# ✅ Remove classes that have only 1 sample\n",
        "df = df.groupby(\"label\").filter(lambda x: len(x) > 1)\n",
        "\n",
        "# Update X and y after filtering\n",
        "X = df.drop(columns=[\"label\", \"filename\"], errors=\"ignore\")\n",
        "y = df[\"label\"]\n",
        "\n",
        "# Check class distribution after filtering\n",
        "unique, counts = np.unique(y, return_counts=True)\n",
        "print(\"Class Distribution After Removing Rare Classes:\", dict(zip(unique, counts)))\n",
        "\n",
        "# ✅ Use stratified splitting only if all classes have at least 2 samples\n",
        "if min(counts) >= 2:\n",
        "    X_train, X_test, y_train, y_test = train_test_split(X, y, test_size=0.2, stratify=y, random_state=42)\n",
        "else:\n",
        "    print(\"🚨 Warning: Some classes still have fewer than 2 samples. Using stratify=None.\")\n",
        "    X_train, X_test, y_train, y_test = train_test_split(X, y, test_size=0.2, stratify=None, random_state=42)\n",
        "\n",
        "print(\"✅ Train-Test Split Completed Successfully!\")"
      ]
    },
    {
      "cell_type": "markdown",
      "metadata": {
        "id": "O8lLfteKuI1u"
      },
      "source": [
        "3.  Apply SMOTE to Balance Data"
      ]
    },
    {
      "cell_type": "code",
      "execution_count": 20,
      "metadata": {
        "colab": {
          "base_uri": "https://localhost:8080/"
        },
        "id": "gHAQ3Z-CuL9l",
        "outputId": "8b9ae842-d742-49b6-aae3-b7f1ed1d83c0"
      },
      "outputs": [
        {
          "name": "stdout",
          "output_type": "stream",
          "text": [
            "Class Distribution After SMOTE: {'benign': 7285, 'malicious': 7285}\n"
          ]
        }
      ],
      "source": [
        "X_train = X_train.select_dtypes(include=[np.number])\n",
        "X_test = X_test.select_dtypes(include=[np.number])\n",
        "\n",
        "# Apply SMOTE\n",
        "smote = SMOTE(sampling_strategy=\"auto\", random_state=42)\n",
        "X_train_balanced, y_train_balanced = smote.fit_resample(X_train, y_train)\n",
        "\n",
        "# Check new class distribution\n",
        "unique_balanced, counts_balanced = np.unique(y_train_balanced, return_counts=True)\n",
        "print(\"Class Distribution After SMOTE:\", dict(zip(unique_balanced, counts_balanced)))"
      ]
    },
    {
      "cell_type": "markdown",
      "metadata": {
        "id": "4QZ2dBcIuPHL"
      },
      "source": [
        "4. Define Stratified K-Fold for Cross-Validation"
      ]
    },
    {
      "cell_type": "code",
      "execution_count": 21,
      "metadata": {
        "id": "CsRAOmKYuOny"
      },
      "outputs": [],
      "source": [
        "stratified_kfold = StratifiedKFold(n_splits=5, shuffle=True, random_state=42)"
      ]
    },
    {
      "cell_type": "markdown",
      "metadata": {
        "id": "yw2IIH_SujSJ"
      },
      "source": [
        "# **Hyperparameter Tuning for SVM**\n",
        "\n",
        "---\n",
        "\n"
      ]
    },
    {
      "cell_type": "code",
      "execution_count": 22,
      "metadata": {
        "colab": {
          "base_uri": "https://localhost:8080/"
        },
        "id": "8o4xrq-LuqBl",
        "outputId": "2a59f00e-e916-4582-f7fe-82697a775957"
      },
      "outputs": [
        {
          "name": "stdout",
          "output_type": "stream",
          "text": [
            "Fitting 3 folds for each of 5 candidates, totalling 15 fits\n",
            "Best Parameters (RandomizedSearchCV): {'kernel': 'rbf', 'gamma': 0.01, 'C': 10}\n",
            "n_iterations: 4\n",
            "n_required_iterations: 4\n",
            "n_possible_iterations: 4\n",
            "min_resources_: 1759\n",
            "max_resources_: 14074\n",
            "aggressive_elimination: False\n",
            "factor: 2\n",
            "----------\n",
            "iter: 0\n",
            "n_candidates: 9\n",
            "n_resources: 1759\n",
            "Fitting 3 folds for each of 9 candidates, totalling 27 fits\n",
            "----------\n",
            "iter: 1\n",
            "n_candidates: 5\n",
            "n_resources: 3518\n",
            "Fitting 3 folds for each of 5 candidates, totalling 15 fits\n",
            "----------\n",
            "iter: 2\n",
            "n_candidates: 3\n",
            "n_resources: 7036\n",
            "Fitting 3 folds for each of 3 candidates, totalling 9 fits\n",
            "----------\n",
            "iter: 3\n",
            "n_candidates: 2\n",
            "n_resources: 14072\n",
            "Fitting 3 folds for each of 2 candidates, totalling 6 fits\n",
            "Best Parameters (HalvingGridSearchCV): {'C': 10, 'gamma': 0.01, 'kernel': 'rbf'}\n"
          ]
        }
      ],
      "source": [
        "from sklearn.experimental import enable_halving_search_cv  # Enable HalvingGridSearchCV\n",
        "from sklearn.model_selection import RandomizedSearchCV, HalvingGridSearchCV\n",
        "from sklearn.svm import SVC\n",
        "\n",
        "# Define parameter grid\n",
        "param_grid = {\n",
        "    'C': [0.1, 1, 10],\n",
        "    'gamma': [1, 0.01, 0.0001],\n",
        "    'kernel': ['rbf']\n",
        "}\n",
        "\n",
        "# Use RandomizedSearchCV (Faster)\n",
        "random_search = RandomizedSearchCV(\n",
        "    SVC(probability=True, random_state=42),\n",
        "    param_distributions=param_grid,\n",
        "    n_iter=5,  # Lower n_iter to reduce time\n",
        "    cv=3,      # Reduce folds\n",
        "    scoring='roc_auc',\n",
        "    n_jobs=-1,\n",
        "    verbose=1,\n",
        "    random_state=42\n",
        ")\n",
        "\n",
        "random_search.fit(X_train, y_train)\n",
        "print(f\"Best Parameters (RandomizedSearchCV): {random_search.best_params_}\")\n",
        "\n",
        "# Use HalvingGridSearchCV (Successive Halving)\n",
        "halving_search = HalvingGridSearchCV(\n",
        "    SVC(probability=True, random_state=42),\n",
        "    param_grid,\n",
        "    factor=2,  # Eliminates half of configurations at each iteration\n",
        "    min_resources=\"exhaust\",\n",
        "    cv=3,\n",
        "    scoring='roc_auc',\n",
        "    n_jobs=-1,\n",
        "    verbose=1\n",
        ")\n",
        "\n",
        "halving_search.fit(X_train, y_train)\n",
        "print(f\"Best Parameters (HalvingGridSearchCV): {halving_search.best_params_}\")\n"
      ]
    },
    {
      "cell_type": "markdown",
      "metadata": {
        "id": "7eCD_9ma-jdr"
      },
      "source": [
        "**Training with best hyperparameters**"
      ]
    },
    {
      "cell_type": "code",
      "execution_count": 23,
      "metadata": {
        "colab": {
          "base_uri": "https://localhost:8080/"
        },
        "id": "_YoVV9Ow-qTZ",
        "outputId": "094da2ef-36b5-45a2-8828-001713888ae7"
      },
      "outputs": [
        {
          "name": "stdout",
          "output_type": "stream",
          "text": [
            "✅ SVM Model Saved!\n"
          ]
        }
      ],
      "source": [
        "from sklearn.svm import SVC\n",
        "from sklearn.metrics import accuracy_score, roc_auc_score, classification_report\n",
        "import joblib\n",
        "\n",
        "# Extract the best parameters from the search\n",
        "best_params = random_search.best_params_  # Change to halving_search.best_params_ if needed\n",
        "\n",
        "# Train the final SVM model with optimized hyperparameters\n",
        "final_svm = SVC(\n",
        "    C=best_params[\"C\"],\n",
        "    gamma=best_params[\"gamma\"],\n",
        "    kernel=best_params[\"kernel\"],\n",
        "    probability=True,\n",
        "    random_state=42\n",
        ")\n",
        "\n",
        "final_svm.fit(X_train, y_train)  # Train the model\n",
        "\n",
        "# Save the trained model\n",
        "joblib.dump(final_svm, \"svm_model.pkl\")\n",
        "print(\"✅ SVM Model Saved!\")\n"
      ]
    },
    {
      "cell_type": "markdown",
      "metadata": {
        "id": "qUailRFP_QWQ"
      },
      "source": [
        "**Evaluation**\n"
      ]
    },
    {
      "cell_type": "code",
      "execution_count": 24,
      "metadata": {
        "colab": {
          "base_uri": "https://localhost:8080/"
        },
        "id": "I2TTBXWl_S4q",
        "outputId": "74f5a5f4-3a9d-4383-e632-076ffdb56d43"
      },
      "outputs": [
        {
          "name": "stdout",
          "output_type": "stream",
          "text": [
            "\n",
            "📌 SVM Performance:\n",
            "Accuracy: 0.9048\n",
            "AUC-ROC: 0.9555\n",
            "              precision    recall  f1-score   support\n",
            "\n",
            "      benign       0.87      0.95      0.91      1822\n",
            "   malicious       0.94      0.85      0.90      1697\n",
            "\n",
            "    accuracy                           0.90      3519\n",
            "   macro avg       0.91      0.90      0.90      3519\n",
            "weighted avg       0.91      0.90      0.90      3519\n",
            "\n"
          ]
        }
      ],
      "source": [
        "# Make predictions on the test set\n",
        "y_pred_svm = final_svm.predict(X_test)\n",
        "y_proba_svm = final_svm.predict_proba(X_test)[:, 1]\n",
        "\n",
        "# Print evaluation metrics\n",
        "print(\"\\n📌 SVM Performance:\")\n",
        "print(f\"Accuracy: {accuracy_score(y_test, y_pred_svm):.4f}\")\n",
        "print(f\"AUC-ROC: {roc_auc_score(y_test, y_proba_svm):.4f}\")\n",
        "print(classification_report(y_test, y_pred_svm))"
      ]
    },
    {
      "cell_type": "markdown",
      "metadata": {
        "id": "9jgYOfXqM0cP"
      },
      "source": [
        "# ***Training with Optuna***"
      ]
    },
    {
      "cell_type": "markdown",
      "metadata": {
        "id": "L5FDXgaKQ4Lp"
      },
      "source": [
        "Installations\n"
      ]
    },
    {
      "cell_type": "code",
      "execution_count": 25,
      "metadata": {
        "colab": {
          "base_uri": "https://localhost:8080/"
        },
        "id": "K08T-cWzQ3eN",
        "outputId": "cf430419-cf07-4b63-994e-434b12f1268f"
      },
      "outputs": [
        {
          "name": "stdout",
          "output_type": "stream",
          "text": [
            "Collecting optunaNote: you may need to restart the kernel to use updated packages.\n",
            "\n",
            "  Using cached optuna-4.2.1-py3-none-any.whl.metadata (17 kB)\n",
            "Requirement already satisfied: imbalanced-learn in c:\\users\\krupa\\anaconda3\\lib\\site-packages (0.13.0)\n",
            "Collecting alembic>=1.5.0 (from optuna)\n",
            "  Using cached alembic-1.14.1-py3-none-any.whl.metadata (7.4 kB)\n",
            "Collecting colorlog (from optuna)\n",
            "  Using cached colorlog-6.9.0-py3-none-any.whl.metadata (10 kB)\n",
            "Requirement already satisfied: numpy in c:\\users\\krupa\\anaconda3\\lib\\site-packages (from optuna) (1.26.4)\n",
            "Requirement already satisfied: packaging>=20.0 in c:\\users\\krupa\\anaconda3\\lib\\site-packages (from optuna) (24.2)\n",
            "Requirement already satisfied: sqlalchemy>=1.4.2 in c:\\users\\krupa\\anaconda3\\lib\\site-packages (from optuna) (2.0.25)\n",
            "Requirement already satisfied: tqdm in c:\\users\\krupa\\anaconda3\\lib\\site-packages (from optuna) (4.65.0)\n",
            "Requirement already satisfied: PyYAML in c:\\users\\krupa\\anaconda3\\lib\\site-packages (from optuna) (6.0.1)\n",
            "Requirement already satisfied: scipy<2,>=1.10.1 in c:\\users\\krupa\\anaconda3\\lib\\site-packages (from imbalanced-learn) (1.11.4)\n",
            "Requirement already satisfied: scikit-learn<2,>=1.3.2 in c:\\users\\krupa\\anaconda3\\lib\\site-packages (from imbalanced-learn) (1.6.1)\n",
            "Requirement already satisfied: sklearn-compat<1,>=0.1 in c:\\users\\krupa\\anaconda3\\lib\\site-packages (from imbalanced-learn) (0.1.3)\n",
            "Requirement already satisfied: joblib<2,>=1.1.1 in c:\\users\\krupa\\anaconda3\\lib\\site-packages (from imbalanced-learn) (1.2.0)\n",
            "Requirement already satisfied: threadpoolctl<4,>=2.0.0 in c:\\users\\krupa\\anaconda3\\lib\\site-packages (from imbalanced-learn) (3.5.0)\n",
            "Collecting Mako (from alembic>=1.5.0->optuna)\n",
            "  Using cached Mako-1.3.9-py3-none-any.whl.metadata (2.9 kB)\n",
            "Requirement already satisfied: typing-extensions>=4 in c:\\users\\krupa\\anaconda3\\lib\\site-packages (from alembic>=1.5.0->optuna) (4.12.2)\n",
            "Requirement already satisfied: greenlet!=0.4.17 in c:\\users\\krupa\\anaconda3\\lib\\site-packages (from sqlalchemy>=1.4.2->optuna) (3.0.1)\n",
            "Requirement already satisfied: colorama in c:\\users\\krupa\\anaconda3\\lib\\site-packages (from colorlog->optuna) (0.4.6)\n",
            "Requirement already satisfied: MarkupSafe>=0.9.2 in c:\\users\\krupa\\anaconda3\\lib\\site-packages (from Mako->alembic>=1.5.0->optuna) (3.0.2)\n",
            "Using cached optuna-4.2.1-py3-none-any.whl (383 kB)\n",
            "Using cached alembic-1.14.1-py3-none-any.whl (233 kB)\n",
            "Using cached colorlog-6.9.0-py3-none-any.whl (11 kB)\n",
            "Using cached Mako-1.3.9-py3-none-any.whl (78 kB)\n",
            "Installing collected packages: Mako, colorlog, alembic, optuna\n",
            "Successfully installed Mako-1.3.9 alembic-1.14.1 colorlog-6.9.0 optuna-4.2.1\n"
          ]
        }
      ],
      "source": [
        "pip install optuna imbalanced-learn\n"
      ]
    },
    {
      "cell_type": "code",
      "execution_count": 26,
      "metadata": {
        "colab": {
          "base_uri": "https://localhost:8080/"
        },
        "id": "Sg_Y-5BPG7z-",
        "outputId": "07f681d3-aeaf-477e-8d0b-df4aec9e4d5f"
      },
      "outputs": [
        {
          "name": "stdout",
          "output_type": "stream",
          "text": [
            "Requirement already satisfied: optuna in c:\\users\\krupa\\anaconda3\\lib\\site-packages (4.2.1)\n",
            "Requirement already satisfied: alembic>=1.5.0 in c:\\users\\krupa\\anaconda3\\lib\\site-packages (from optuna) (1.14.1)\n",
            "Requirement already satisfied: colorlog in c:\\users\\krupa\\anaconda3\\lib\\site-packages (from optuna) (6.9.0)\n",
            "Requirement already satisfied: numpy in c:\\users\\krupa\\anaconda3\\lib\\site-packages (from optuna) (1.26.4)\n",
            "Requirement already satisfied: packaging>=20.0 in c:\\users\\krupa\\anaconda3\\lib\\site-packages (from optuna) (24.2)\n",
            "Requirement already satisfied: sqlalchemy>=1.4.2 in c:\\users\\krupa\\anaconda3\\lib\\site-packages (from optuna) (2.0.25)\n",
            "Requirement already satisfied: tqdm in c:\\users\\krupa\\anaconda3\\lib\\site-packages (from optuna) (4.65.0)\n",
            "Requirement already satisfied: PyYAML in c:\\users\\krupa\\anaconda3\\lib\\site-packages (from optuna) (6.0.1)\n",
            "Requirement already satisfied: Mako in c:\\users\\krupa\\anaconda3\\lib\\site-packages (from alembic>=1.5.0->optuna) (1.3.9)\n",
            "Requirement already satisfied: typing-extensions>=4 in c:\\users\\krupa\\anaconda3\\lib\\site-packages (from alembic>=1.5.0->optuna) (4.12.2)\n",
            "Requirement already satisfied: greenlet!=0.4.17 in c:\\users\\krupa\\anaconda3\\lib\\site-packages (from sqlalchemy>=1.4.2->optuna) (3.0.1)\n",
            "Requirement already satisfied: colorama in c:\\users\\krupa\\anaconda3\\lib\\site-packages (from colorlog->optuna) (0.4.6)\n",
            "Requirement already satisfied: MarkupSafe>=0.9.2 in c:\\users\\krupa\\anaconda3\\lib\\site-packages (from Mako->alembic>=1.5.0->optuna) (3.0.2)\n"
          ]
        }
      ],
      "source": [
        "!pip install optuna"
      ]
    },
    {
      "cell_type": "code",
      "execution_count": 27,
      "metadata": {
        "id": "wdWbZWxKI9QF"
      },
      "outputs": [],
      "source": [
        "# Convert categorical labels to numeric (benign = 0, malicious = 1)\n",
        "y_train = y_train.map({'benign': 0, 'malicious': 1})\n",
        "y_test = y_test.map({'benign': 0, 'malicious': 1})\n"
      ]
    },
    {
      "cell_type": "markdown",
      "metadata": {
        "id": "1mfyDFFpRu8-"
      },
      "source": [
        "\n",
        "# **Random Forest**\n",
        "---\n",
        "\n"
      ]
    },
    {
      "cell_type": "code",
      "execution_count": 28,
      "metadata": {
        "colab": {
          "base_uri": "https://localhost:8080/"
        },
        "id": "nEl-j1BuSwh2",
        "outputId": "00b4b2e1-8afe-489d-a71c-69727d1cb017"
      },
      "outputs": [
        {
          "name": "stderr",
          "output_type": "stream",
          "text": [
            "[I 2025-02-25 00:34:01,517] A new study created in memory with name: no-name-e351b769-a8d6-43be-aca4-b03c989aafbe\n",
            "[I 2025-02-25 00:34:04,878] Trial 0 finished with value: 0.8936646135785488 and parameters: {'n_estimators': 132, 'max_depth': 45, 'min_samples_split': 4, 'min_samples_leaf': 5}. Best is trial 0 with value: 0.8936646135785488.\n",
            "[I 2025-02-25 00:34:08,790] Trial 1 finished with value: 0.8940138827860812 and parameters: {'n_estimators': 392, 'max_depth': 19, 'min_samples_split': 6, 'min_samples_leaf': 5}. Best is trial 1 with value: 0.8940138827860812.\n",
            "[I 2025-02-25 00:34:10,320] Trial 2 finished with value: 0.8763180028851918 and parameters: {'n_estimators': 74, 'max_depth': 39, 'min_samples_split': 10, 'min_samples_leaf': 1}. Best is trial 1 with value: 0.8940138827860812.\n",
            "[I 2025-02-25 00:34:12,535] Trial 3 finished with value: 0.8941635828031453 and parameters: {'n_estimators': 191, 'max_depth': 17, 'min_samples_split': 10, 'min_samples_leaf': 3}. Best is trial 3 with value: 0.8941635828031453.\n",
            "[I 2025-02-25 00:34:16,775] Trial 4 finished with value: 0.8930696501229878 and parameters: {'n_estimators': 439, 'max_depth': 41, 'min_samples_split': 4, 'min_samples_leaf': 8}. Best is trial 3 with value: 0.8941635828031453.\n",
            "[I 2025-02-25 00:34:20,473] Trial 5 finished with value: 0.893467233808161 and parameters: {'n_estimators': 335, 'max_depth': 49, 'min_samples_split': 6, 'min_samples_leaf': 4}. Best is trial 3 with value: 0.8941635828031453.\n",
            "[I 2025-02-25 00:34:24,875] Trial 6 finished with value: 0.8932791249160944 and parameters: {'n_estimators': 259, 'max_depth': 16, 'min_samples_split': 9, 'min_samples_leaf': 6}. Best is trial 3 with value: 0.8941635828031453.\n",
            "[I 2025-02-25 00:34:29,757] Trial 7 finished with value: 0.8936135445167899 and parameters: {'n_estimators': 231, 'max_depth': 20, 'min_samples_split': 2, 'min_samples_leaf': 7}. Best is trial 3 with value: 0.8941635828031453.\n",
            "[I 2025-02-25 00:34:36,470] Trial 8 finished with value: 0.8910777423677387 and parameters: {'n_estimators': 299, 'max_depth': 50, 'min_samples_split': 9, 'min_samples_leaf': 2}. Best is trial 3 with value: 0.8941635828031453.\n",
            "[I 2025-02-25 00:34:39,087] Trial 9 finished with value: 0.8929376375101556 and parameters: {'n_estimators': 114, 'max_depth': 20, 'min_samples_split': 7, 'min_samples_leaf': 4}. Best is trial 3 with value: 0.8941635828031453.\n",
            "[I 2025-02-25 00:34:42,768] Trial 10 finished with value: 0.8890594089592805 and parameters: {'n_estimators': 192, 'max_depth': 6, 'min_samples_split': 8, 'min_samples_leaf': 10}. Best is trial 3 with value: 0.8941635828031453.\n",
            "[I 2025-02-25 00:34:50,841] Trial 11 finished with value: 0.893649896301761 and parameters: {'n_estimators': 407, 'max_depth': 29, 'min_samples_split': 6, 'min_samples_leaf': 3}. Best is trial 3 with value: 0.8941635828031453.\n",
            "[I 2025-02-25 00:34:57,879] Trial 12 finished with value: 0.8953958385902127 and parameters: {'n_estimators': 370, 'max_depth': 10, 'min_samples_split': 5, 'min_samples_leaf': 3}. Best is trial 12 with value: 0.8953958385902127.\n",
            "[I 2025-02-25 00:35:08,082] Trial 13 finished with value: 0.8886813766717964 and parameters: {'n_estimators': 476, 'max_depth': 7, 'min_samples_split': 4, 'min_samples_leaf': 1}. Best is trial 12 with value: 0.8953958385902127.\n",
            "[I 2025-02-25 00:35:13,418] Trial 14 finished with value: 0.893926406968537 and parameters: {'n_estimators': 319, 'max_depth': 13, 'min_samples_split': 2, 'min_samples_leaf': 3}. Best is trial 12 with value: 0.8953958385902127.\n",
            "[I 2025-02-25 00:35:15,595] Trial 15 finished with value: 0.89268094346108 and parameters: {'n_estimators': 168, 'max_depth': 28, 'min_samples_split': 5, 'min_samples_leaf': 3}. Best is trial 12 with value: 0.8953958385902127.\n",
            "[I 2025-02-25 00:35:21,904] Trial 16 finished with value: 0.895125003550346 and parameters: {'n_estimators': 349, 'max_depth': 11, 'min_samples_split': 10, 'min_samples_leaf': 2}. Best is trial 12 with value: 0.8953958385902127.\n",
            "[I 2025-02-25 00:35:30,691] Trial 17 finished with value: 0.8964464790656088 and parameters: {'n_estimators': 359, 'max_depth': 11, 'min_samples_split': 8, 'min_samples_leaf': 1}. Best is trial 17 with value: 0.8964464790656088.\n",
            "[I 2025-02-25 00:35:41,387] Trial 18 finished with value: 0.8729770712437676 and parameters: {'n_estimators': 373, 'max_depth': 26, 'min_samples_split': 8, 'min_samples_leaf': 1}. Best is trial 17 with value: 0.8964464790656088.\n",
            "[I 2025-02-25 00:35:51,541] Trial 19 finished with value: 0.8953586831443889 and parameters: {'n_estimators': 479, 'max_depth': 10, 'min_samples_split': 7, 'min_samples_leaf': 2}. Best is trial 17 with value: 0.8964464790656088.\n",
            "[I 2025-02-25 00:36:00,098] Trial 20 finished with value: 0.8940730668486893 and parameters: {'n_estimators': 435, 'max_depth': 34, 'min_samples_split': 3, 'min_samples_leaf': 4}. Best is trial 17 with value: 0.8964464790656088.\n",
            "[I 2025-02-25 00:36:10,962] Trial 21 finished with value: 0.895661108705277 and parameters: {'n_estimators': 483, 'max_depth': 10, 'min_samples_split': 7, 'min_samples_leaf': 1}. Best is trial 17 with value: 0.8964464790656088.\n",
            "[I 2025-02-25 00:36:19,884] Trial 22 finished with value: 0.8865511712294005 and parameters: {'n_estimators': 496, 'max_depth': 5, 'min_samples_split': 7, 'min_samples_leaf': 1}. Best is trial 17 with value: 0.8964464790656088.\n",
            "[I 2025-02-25 00:36:29,334] Trial 23 finished with value: 0.8893958662165442 and parameters: {'n_estimators': 436, 'max_depth': 23, 'min_samples_split': 5, 'min_samples_leaf': 2}. Best is trial 17 with value: 0.8964464790656088.\n",
            "[I 2025-02-25 00:36:36,825] Trial 24 finished with value: 0.8925869276315789 and parameters: {'n_estimators': 278, 'max_depth': 14, 'min_samples_split': 8, 'min_samples_leaf': 1}. Best is trial 17 with value: 0.8964464790656088.\n",
            "[I 2025-02-25 00:36:44,199] Trial 25 finished with value: 0.8934756540815816 and parameters: {'n_estimators': 368, 'max_depth': 9, 'min_samples_split': 5, 'min_samples_leaf': 2}. Best is trial 17 with value: 0.8964464790656088.\n",
            "[I 2025-02-25 00:36:52,849] Trial 26 finished with value: 0.8956070036657952 and parameters: {'n_estimators': 410, 'max_depth': 13, 'min_samples_split': 7, 'min_samples_leaf': 2}. Best is trial 17 with value: 0.8964464790656088.\n",
            "[I 2025-02-25 00:37:00,437] Trial 27 finished with value: 0.8938423163020699 and parameters: {'n_estimators': 418, 'max_depth': 13, 'min_samples_split': 9, 'min_samples_leaf': 10}. Best is trial 17 with value: 0.8964464790656088.\n",
            "[I 2025-02-25 00:37:13,465] Trial 28 finished with value: 0.8721329074078199 and parameters: {'n_estimators': 464, 'max_depth': 24, 'min_samples_split': 7, 'min_samples_leaf': 1}. Best is trial 17 with value: 0.8964464790656088.\n",
            "[I 2025-02-25 00:37:23,433] Trial 29 finished with value: 0.8930599479447585 and parameters: {'n_estimators': 455, 'max_depth': 16, 'min_samples_split': 8, 'min_samples_leaf': 2}. Best is trial 17 with value: 0.8964464790656088.\n"
          ]
        },
        {
          "name": "stdout",
          "output_type": "stream",
          "text": [
            "Best hyperparameters: {'n_estimators': 359, 'max_depth': 11, 'min_samples_split': 8, 'min_samples_leaf': 1}\n"
          ]
        }
      ],
      "source": [
        "import optuna\n",
        "from sklearn.ensemble import RandomForestClassifier\n",
        "from sklearn.model_selection import StratifiedKFold, cross_val_score\n",
        "from sklearn.metrics import make_scorer, average_precision_score\n",
        "\n",
        "# Define the objective function for Optuna\n",
        "def objective(trial):\n",
        "    # Hyperparameter search space\n",
        "    n_estimators = trial.suggest_int(\"n_estimators\", 50, 500)\n",
        "    max_depth = trial.suggest_int(\"max_depth\", 5, 50)\n",
        "    min_samples_split = trial.suggest_int(\"min_samples_split\", 2, 10)\n",
        "    min_samples_leaf = trial.suggest_int(\"min_samples_leaf\", 1, 10)\n",
        "\n",
        "    # Define the model with trial parameters\n",
        "    model = RandomForestClassifier(\n",
        "        n_estimators=n_estimators,\n",
        "        max_depth=max_depth,\n",
        "        min_samples_split=min_samples_split,\n",
        "        min_samples_leaf=min_samples_leaf,\n",
        "        class_weight=\"balanced\",  # Handle class imbalance\n",
        "        random_state=42,\n",
        "        n_jobs=-1\n",
        "    )\n",
        "\n",
        "    # Stratified K-Fold Cross-Validation\n",
        "    skf = StratifiedKFold(n_splits=5, shuffle=True, random_state=42)\n",
        "\n",
        "    # Optimize for PR-AUC using average_precision_score\n",
        "    scores = cross_val_score(model, X_train, y_train, cv=skf, scoring=make_scorer(average_precision_score))\n",
        "    return scores.mean()  # Return the average PR-AUC score\n",
        "\n",
        "# Run Optuna optimization\n",
        "study = optuna.create_study(direction=\"maximize\")  # We maximize PR-AUC\n",
        "study.optimize(objective, n_trials=30)  # Run 30 trials\n",
        "\n",
        "# Best hyperparameters found\n",
        "print(\"Best hyperparameters:\", study.best_params)\n"
      ]
    },
    {
      "cell_type": "code",
      "execution_count": 29,
      "metadata": {
        "colab": {
          "base_uri": "https://localhost:8080/",
          "height": 115
        },
        "id": "a5dgjowHLCeV",
        "outputId": "4200a40c-20ea-46d8-c73e-5b27958e197a"
      },
      "outputs": [
        {
          "data": {
            "text/html": [
              "<style>#sk-container-id-1 {\n",
              "  /* Definition of color scheme common for light and dark mode */\n",
              "  --sklearn-color-text: #000;\n",
              "  --sklearn-color-text-muted: #666;\n",
              "  --sklearn-color-line: gray;\n",
              "  /* Definition of color scheme for unfitted estimators */\n",
              "  --sklearn-color-unfitted-level-0: #fff5e6;\n",
              "  --sklearn-color-unfitted-level-1: #f6e4d2;\n",
              "  --sklearn-color-unfitted-level-2: #ffe0b3;\n",
              "  --sklearn-color-unfitted-level-3: chocolate;\n",
              "  /* Definition of color scheme for fitted estimators */\n",
              "  --sklearn-color-fitted-level-0: #f0f8ff;\n",
              "  --sklearn-color-fitted-level-1: #d4ebff;\n",
              "  --sklearn-color-fitted-level-2: #b3dbfd;\n",
              "  --sklearn-color-fitted-level-3: cornflowerblue;\n",
              "\n",
              "  /* Specific color for light theme */\n",
              "  --sklearn-color-text-on-default-background: var(--sg-text-color, var(--theme-code-foreground, var(--jp-content-font-color1, black)));\n",
              "  --sklearn-color-background: var(--sg-background-color, var(--theme-background, var(--jp-layout-color0, white)));\n",
              "  --sklearn-color-border-box: var(--sg-text-color, var(--theme-code-foreground, var(--jp-content-font-color1, black)));\n",
              "  --sklearn-color-icon: #696969;\n",
              "\n",
              "  @media (prefers-color-scheme: dark) {\n",
              "    /* Redefinition of color scheme for dark theme */\n",
              "    --sklearn-color-text-on-default-background: var(--sg-text-color, var(--theme-code-foreground, var(--jp-content-font-color1, white)));\n",
              "    --sklearn-color-background: var(--sg-background-color, var(--theme-background, var(--jp-layout-color0, #111)));\n",
              "    --sklearn-color-border-box: var(--sg-text-color, var(--theme-code-foreground, var(--jp-content-font-color1, white)));\n",
              "    --sklearn-color-icon: #878787;\n",
              "  }\n",
              "}\n",
              "\n",
              "#sk-container-id-1 {\n",
              "  color: var(--sklearn-color-text);\n",
              "}\n",
              "\n",
              "#sk-container-id-1 pre {\n",
              "  padding: 0;\n",
              "}\n",
              "\n",
              "#sk-container-id-1 input.sk-hidden--visually {\n",
              "  border: 0;\n",
              "  clip: rect(1px 1px 1px 1px);\n",
              "  clip: rect(1px, 1px, 1px, 1px);\n",
              "  height: 1px;\n",
              "  margin: -1px;\n",
              "  overflow: hidden;\n",
              "  padding: 0;\n",
              "  position: absolute;\n",
              "  width: 1px;\n",
              "}\n",
              "\n",
              "#sk-container-id-1 div.sk-dashed-wrapped {\n",
              "  border: 1px dashed var(--sklearn-color-line);\n",
              "  margin: 0 0.4em 0.5em 0.4em;\n",
              "  box-sizing: border-box;\n",
              "  padding-bottom: 0.4em;\n",
              "  background-color: var(--sklearn-color-background);\n",
              "}\n",
              "\n",
              "#sk-container-id-1 div.sk-container {\n",
              "  /* jupyter's `normalize.less` sets `[hidden] { display: none; }`\n",
              "     but bootstrap.min.css set `[hidden] { display: none !important; }`\n",
              "     so we also need the `!important` here to be able to override the\n",
              "     default hidden behavior on the sphinx rendered scikit-learn.org.\n",
              "     See: https://github.com/scikit-learn/scikit-learn/issues/21755 */\n",
              "  display: inline-block !important;\n",
              "  position: relative;\n",
              "}\n",
              "\n",
              "#sk-container-id-1 div.sk-text-repr-fallback {\n",
              "  display: none;\n",
              "}\n",
              "\n",
              "div.sk-parallel-item,\n",
              "div.sk-serial,\n",
              "div.sk-item {\n",
              "  /* draw centered vertical line to link estimators */\n",
              "  background-image: linear-gradient(var(--sklearn-color-text-on-default-background), var(--sklearn-color-text-on-default-background));\n",
              "  background-size: 2px 100%;\n",
              "  background-repeat: no-repeat;\n",
              "  background-position: center center;\n",
              "}\n",
              "\n",
              "/* Parallel-specific style estimator block */\n",
              "\n",
              "#sk-container-id-1 div.sk-parallel-item::after {\n",
              "  content: \"\";\n",
              "  width: 100%;\n",
              "  border-bottom: 2px solid var(--sklearn-color-text-on-default-background);\n",
              "  flex-grow: 1;\n",
              "}\n",
              "\n",
              "#sk-container-id-1 div.sk-parallel {\n",
              "  display: flex;\n",
              "  align-items: stretch;\n",
              "  justify-content: center;\n",
              "  background-color: var(--sklearn-color-background);\n",
              "  position: relative;\n",
              "}\n",
              "\n",
              "#sk-container-id-1 div.sk-parallel-item {\n",
              "  display: flex;\n",
              "  flex-direction: column;\n",
              "}\n",
              "\n",
              "#sk-container-id-1 div.sk-parallel-item:first-child::after {\n",
              "  align-self: flex-end;\n",
              "  width: 50%;\n",
              "}\n",
              "\n",
              "#sk-container-id-1 div.sk-parallel-item:last-child::after {\n",
              "  align-self: flex-start;\n",
              "  width: 50%;\n",
              "}\n",
              "\n",
              "#sk-container-id-1 div.sk-parallel-item:only-child::after {\n",
              "  width: 0;\n",
              "}\n",
              "\n",
              "/* Serial-specific style estimator block */\n",
              "\n",
              "#sk-container-id-1 div.sk-serial {\n",
              "  display: flex;\n",
              "  flex-direction: column;\n",
              "  align-items: center;\n",
              "  background-color: var(--sklearn-color-background);\n",
              "  padding-right: 1em;\n",
              "  padding-left: 1em;\n",
              "}\n",
              "\n",
              "\n",
              "/* Toggleable style: style used for estimator/Pipeline/ColumnTransformer box that is\n",
              "clickable and can be expanded/collapsed.\n",
              "- Pipeline and ColumnTransformer use this feature and define the default style\n",
              "- Estimators will overwrite some part of the style using the `sk-estimator` class\n",
              "*/\n",
              "\n",
              "/* Pipeline and ColumnTransformer style (default) */\n",
              "\n",
              "#sk-container-id-1 div.sk-toggleable {\n",
              "  /* Default theme specific background. It is overwritten whether we have a\n",
              "  specific estimator or a Pipeline/ColumnTransformer */\n",
              "  background-color: var(--sklearn-color-background);\n",
              "}\n",
              "\n",
              "/* Toggleable label */\n",
              "#sk-container-id-1 label.sk-toggleable__label {\n",
              "  cursor: pointer;\n",
              "  display: flex;\n",
              "  width: 100%;\n",
              "  margin-bottom: 0;\n",
              "  padding: 0.5em;\n",
              "  box-sizing: border-box;\n",
              "  text-align: center;\n",
              "  align-items: start;\n",
              "  justify-content: space-between;\n",
              "  gap: 0.5em;\n",
              "}\n",
              "\n",
              "#sk-container-id-1 label.sk-toggleable__label .caption {\n",
              "  font-size: 0.6rem;\n",
              "  font-weight: lighter;\n",
              "  color: var(--sklearn-color-text-muted);\n",
              "}\n",
              "\n",
              "#sk-container-id-1 label.sk-toggleable__label-arrow:before {\n",
              "  /* Arrow on the left of the label */\n",
              "  content: \"▸\";\n",
              "  float: left;\n",
              "  margin-right: 0.25em;\n",
              "  color: var(--sklearn-color-icon);\n",
              "}\n",
              "\n",
              "#sk-container-id-1 label.sk-toggleable__label-arrow:hover:before {\n",
              "  color: var(--sklearn-color-text);\n",
              "}\n",
              "\n",
              "/* Toggleable content - dropdown */\n",
              "\n",
              "#sk-container-id-1 div.sk-toggleable__content {\n",
              "  max-height: 0;\n",
              "  max-width: 0;\n",
              "  overflow: hidden;\n",
              "  text-align: left;\n",
              "  /* unfitted */\n",
              "  background-color: var(--sklearn-color-unfitted-level-0);\n",
              "}\n",
              "\n",
              "#sk-container-id-1 div.sk-toggleable__content.fitted {\n",
              "  /* fitted */\n",
              "  background-color: var(--sklearn-color-fitted-level-0);\n",
              "}\n",
              "\n",
              "#sk-container-id-1 div.sk-toggleable__content pre {\n",
              "  margin: 0.2em;\n",
              "  border-radius: 0.25em;\n",
              "  color: var(--sklearn-color-text);\n",
              "  /* unfitted */\n",
              "  background-color: var(--sklearn-color-unfitted-level-0);\n",
              "}\n",
              "\n",
              "#sk-container-id-1 div.sk-toggleable__content.fitted pre {\n",
              "  /* unfitted */\n",
              "  background-color: var(--sklearn-color-fitted-level-0);\n",
              "}\n",
              "\n",
              "#sk-container-id-1 input.sk-toggleable__control:checked~div.sk-toggleable__content {\n",
              "  /* Expand drop-down */\n",
              "  max-height: 200px;\n",
              "  max-width: 100%;\n",
              "  overflow: auto;\n",
              "}\n",
              "\n",
              "#sk-container-id-1 input.sk-toggleable__control:checked~label.sk-toggleable__label-arrow:before {\n",
              "  content: \"▾\";\n",
              "}\n",
              "\n",
              "/* Pipeline/ColumnTransformer-specific style */\n",
              "\n",
              "#sk-container-id-1 div.sk-label input.sk-toggleable__control:checked~label.sk-toggleable__label {\n",
              "  color: var(--sklearn-color-text);\n",
              "  background-color: var(--sklearn-color-unfitted-level-2);\n",
              "}\n",
              "\n",
              "#sk-container-id-1 div.sk-label.fitted input.sk-toggleable__control:checked~label.sk-toggleable__label {\n",
              "  background-color: var(--sklearn-color-fitted-level-2);\n",
              "}\n",
              "\n",
              "/* Estimator-specific style */\n",
              "\n",
              "/* Colorize estimator box */\n",
              "#sk-container-id-1 div.sk-estimator input.sk-toggleable__control:checked~label.sk-toggleable__label {\n",
              "  /* unfitted */\n",
              "  background-color: var(--sklearn-color-unfitted-level-2);\n",
              "}\n",
              "\n",
              "#sk-container-id-1 div.sk-estimator.fitted input.sk-toggleable__control:checked~label.sk-toggleable__label {\n",
              "  /* fitted */\n",
              "  background-color: var(--sklearn-color-fitted-level-2);\n",
              "}\n",
              "\n",
              "#sk-container-id-1 div.sk-label label.sk-toggleable__label,\n",
              "#sk-container-id-1 div.sk-label label {\n",
              "  /* The background is the default theme color */\n",
              "  color: var(--sklearn-color-text-on-default-background);\n",
              "}\n",
              "\n",
              "/* On hover, darken the color of the background */\n",
              "#sk-container-id-1 div.sk-label:hover label.sk-toggleable__label {\n",
              "  color: var(--sklearn-color-text);\n",
              "  background-color: var(--sklearn-color-unfitted-level-2);\n",
              "}\n",
              "\n",
              "/* Label box, darken color on hover, fitted */\n",
              "#sk-container-id-1 div.sk-label.fitted:hover label.sk-toggleable__label.fitted {\n",
              "  color: var(--sklearn-color-text);\n",
              "  background-color: var(--sklearn-color-fitted-level-2);\n",
              "}\n",
              "\n",
              "/* Estimator label */\n",
              "\n",
              "#sk-container-id-1 div.sk-label label {\n",
              "  font-family: monospace;\n",
              "  font-weight: bold;\n",
              "  display: inline-block;\n",
              "  line-height: 1.2em;\n",
              "}\n",
              "\n",
              "#sk-container-id-1 div.sk-label-container {\n",
              "  text-align: center;\n",
              "}\n",
              "\n",
              "/* Estimator-specific */\n",
              "#sk-container-id-1 div.sk-estimator {\n",
              "  font-family: monospace;\n",
              "  border: 1px dotted var(--sklearn-color-border-box);\n",
              "  border-radius: 0.25em;\n",
              "  box-sizing: border-box;\n",
              "  margin-bottom: 0.5em;\n",
              "  /* unfitted */\n",
              "  background-color: var(--sklearn-color-unfitted-level-0);\n",
              "}\n",
              "\n",
              "#sk-container-id-1 div.sk-estimator.fitted {\n",
              "  /* fitted */\n",
              "  background-color: var(--sklearn-color-fitted-level-0);\n",
              "}\n",
              "\n",
              "/* on hover */\n",
              "#sk-container-id-1 div.sk-estimator:hover {\n",
              "  /* unfitted */\n",
              "  background-color: var(--sklearn-color-unfitted-level-2);\n",
              "}\n",
              "\n",
              "#sk-container-id-1 div.sk-estimator.fitted:hover {\n",
              "  /* fitted */\n",
              "  background-color: var(--sklearn-color-fitted-level-2);\n",
              "}\n",
              "\n",
              "/* Specification for estimator info (e.g. \"i\" and \"?\") */\n",
              "\n",
              "/* Common style for \"i\" and \"?\" */\n",
              "\n",
              ".sk-estimator-doc-link,\n",
              "a:link.sk-estimator-doc-link,\n",
              "a:visited.sk-estimator-doc-link {\n",
              "  float: right;\n",
              "  font-size: smaller;\n",
              "  line-height: 1em;\n",
              "  font-family: monospace;\n",
              "  background-color: var(--sklearn-color-background);\n",
              "  border-radius: 1em;\n",
              "  height: 1em;\n",
              "  width: 1em;\n",
              "  text-decoration: none !important;\n",
              "  margin-left: 0.5em;\n",
              "  text-align: center;\n",
              "  /* unfitted */\n",
              "  border: var(--sklearn-color-unfitted-level-1) 1pt solid;\n",
              "  color: var(--sklearn-color-unfitted-level-1);\n",
              "}\n",
              "\n",
              ".sk-estimator-doc-link.fitted,\n",
              "a:link.sk-estimator-doc-link.fitted,\n",
              "a:visited.sk-estimator-doc-link.fitted {\n",
              "  /* fitted */\n",
              "  border: var(--sklearn-color-fitted-level-1) 1pt solid;\n",
              "  color: var(--sklearn-color-fitted-level-1);\n",
              "}\n",
              "\n",
              "/* On hover */\n",
              "div.sk-estimator:hover .sk-estimator-doc-link:hover,\n",
              ".sk-estimator-doc-link:hover,\n",
              "div.sk-label-container:hover .sk-estimator-doc-link:hover,\n",
              ".sk-estimator-doc-link:hover {\n",
              "  /* unfitted */\n",
              "  background-color: var(--sklearn-color-unfitted-level-3);\n",
              "  color: var(--sklearn-color-background);\n",
              "  text-decoration: none;\n",
              "}\n",
              "\n",
              "div.sk-estimator.fitted:hover .sk-estimator-doc-link.fitted:hover,\n",
              ".sk-estimator-doc-link.fitted:hover,\n",
              "div.sk-label-container:hover .sk-estimator-doc-link.fitted:hover,\n",
              ".sk-estimator-doc-link.fitted:hover {\n",
              "  /* fitted */\n",
              "  background-color: var(--sklearn-color-fitted-level-3);\n",
              "  color: var(--sklearn-color-background);\n",
              "  text-decoration: none;\n",
              "}\n",
              "\n",
              "/* Span, style for the box shown on hovering the info icon */\n",
              ".sk-estimator-doc-link span {\n",
              "  display: none;\n",
              "  z-index: 9999;\n",
              "  position: relative;\n",
              "  font-weight: normal;\n",
              "  right: .2ex;\n",
              "  padding: .5ex;\n",
              "  margin: .5ex;\n",
              "  width: min-content;\n",
              "  min-width: 20ex;\n",
              "  max-width: 50ex;\n",
              "  color: var(--sklearn-color-text);\n",
              "  box-shadow: 2pt 2pt 4pt #999;\n",
              "  /* unfitted */\n",
              "  background: var(--sklearn-color-unfitted-level-0);\n",
              "  border: .5pt solid var(--sklearn-color-unfitted-level-3);\n",
              "}\n",
              "\n",
              ".sk-estimator-doc-link.fitted span {\n",
              "  /* fitted */\n",
              "  background: var(--sklearn-color-fitted-level-0);\n",
              "  border: var(--sklearn-color-fitted-level-3);\n",
              "}\n",
              "\n",
              ".sk-estimator-doc-link:hover span {\n",
              "  display: block;\n",
              "}\n",
              "\n",
              "/* \"?\"-specific style due to the `<a>` HTML tag */\n",
              "\n",
              "#sk-container-id-1 a.estimator_doc_link {\n",
              "  float: right;\n",
              "  font-size: 1rem;\n",
              "  line-height: 1em;\n",
              "  font-family: monospace;\n",
              "  background-color: var(--sklearn-color-background);\n",
              "  border-radius: 1rem;\n",
              "  height: 1rem;\n",
              "  width: 1rem;\n",
              "  text-decoration: none;\n",
              "  /* unfitted */\n",
              "  color: var(--sklearn-color-unfitted-level-1);\n",
              "  border: var(--sklearn-color-unfitted-level-1) 1pt solid;\n",
              "}\n",
              "\n",
              "#sk-container-id-1 a.estimator_doc_link.fitted {\n",
              "  /* fitted */\n",
              "  border: var(--sklearn-color-fitted-level-1) 1pt solid;\n",
              "  color: var(--sklearn-color-fitted-level-1);\n",
              "}\n",
              "\n",
              "/* On hover */\n",
              "#sk-container-id-1 a.estimator_doc_link:hover {\n",
              "  /* unfitted */\n",
              "  background-color: var(--sklearn-color-unfitted-level-3);\n",
              "  color: var(--sklearn-color-background);\n",
              "  text-decoration: none;\n",
              "}\n",
              "\n",
              "#sk-container-id-1 a.estimator_doc_link.fitted:hover {\n",
              "  /* fitted */\n",
              "  background-color: var(--sklearn-color-fitted-level-3);\n",
              "}\n",
              "</style><div id=\"sk-container-id-1\" class=\"sk-top-container\"><div class=\"sk-text-repr-fallback\"><pre>RandomForestClassifier(class_weight=&#x27;balanced&#x27;, max_depth=11,\n",
              "                       min_samples_split=8, n_estimators=359, n_jobs=-1,\n",
              "                       random_state=42)</pre><b>In a Jupyter environment, please rerun this cell to show the HTML representation or trust the notebook. <br />On GitHub, the HTML representation is unable to render, please try loading this page with nbviewer.org.</b></div><div class=\"sk-container\" hidden><div class=\"sk-item\"><div class=\"sk-estimator fitted sk-toggleable\"><input class=\"sk-toggleable__control sk-hidden--visually\" id=\"sk-estimator-id-1\" type=\"checkbox\" checked><label for=\"sk-estimator-id-1\" class=\"sk-toggleable__label fitted sk-toggleable__label-arrow\"><div><div>RandomForestClassifier</div></div><div><a class=\"sk-estimator-doc-link fitted\" rel=\"noreferrer\" target=\"_blank\" href=\"https://scikit-learn.org/1.6/modules/generated/sklearn.ensemble.RandomForestClassifier.html\">?<span>Documentation for RandomForestClassifier</span></a><span class=\"sk-estimator-doc-link fitted\">i<span>Fitted</span></span></div></label><div class=\"sk-toggleable__content fitted\"><pre>RandomForestClassifier(class_weight=&#x27;balanced&#x27;, max_depth=11,\n",
              "                       min_samples_split=8, n_estimators=359, n_jobs=-1,\n",
              "                       random_state=42)</pre></div> </div></div></div></div>"
            ],
            "text/plain": [
              "RandomForestClassifier(class_weight='balanced', max_depth=11,\n",
              "                       min_samples_split=8, n_estimators=359, n_jobs=-1,\n",
              "                       random_state=42)"
            ]
          },
          "execution_count": 29,
          "metadata": {},
          "output_type": "execute_result"
        }
      ],
      "source": [
        "# Extract the best parameters from Optuna\n",
        "best_params = study.best_params\n",
        "\n",
        "# Train the final Random Forest model with the best parameters\n",
        "final_rf = RandomForestClassifier(\n",
        "    **best_params, class_weight=\"balanced\", random_state=42, n_jobs=-1\n",
        ")\n",
        "final_rf.fit(X_train, y_train)  # Train the model\n"
      ]
    },
    {
      "cell_type": "code",
      "execution_count": 30,
      "metadata": {
        "colab": {
          "base_uri": "https://localhost:8080/"
        },
        "id": "8nV4TgiucUtj",
        "outputId": "7b0acac0-5ad2-4f11-db66-e110e4140fef"
      },
      "outputs": [
        {
          "name": "stdout",
          "output_type": "stream",
          "text": [
            "              precision    recall  f1-score   support\n",
            "\n",
            "           0       0.90      0.96      0.93      1822\n",
            "           1       0.96      0.89      0.92      1697\n",
            "\n",
            "    accuracy                           0.93      3519\n",
            "   macro avg       0.93      0.93      0.93      3519\n",
            "weighted avg       0.93      0.93      0.93      3519\n",
            "\n"
          ]
        }
      ],
      "source": [
        "from sklearn.metrics import classification_report\n",
        "\n",
        "# Make predictions on the test set\n",
        "y_pred = final_rf.predict(X_test)\n",
        "\n",
        "# Print evaluation metrics\n",
        "print(classification_report(y_test, y_pred))\n"
      ]
    },
    {
      "cell_type": "code",
      "execution_count": 31,
      "metadata": {
        "colab": {
          "base_uri": "https://localhost:8080/",
          "height": 691
        },
        "id": "27YYswjpcnxS",
        "outputId": "7356da98-4d9c-4406-9e6f-d0ca9d1a2407"
      },
      "outputs": [
        {
          "data": {
            "image/png": "[encoded data removed]",
            "text/plain": [
              "<Figure size 1000x600 with 1 Axes>"
            ]
          },
          "metadata": {},
          "output_type": "display_data"
        }
      ],
      "source": [
        "import matplotlib.pyplot as plt\n",
        "import numpy as np\n",
        "\n",
        "# Get feature importances\n",
        "feature_importances = final_rf.feature_importances_\n",
        "feature_names = X_train.columns\n",
        "\n",
        "# Sort feature importances\n",
        "indices = np.argsort(feature_importances)[::-1]\n",
        "\n",
        "# Plot feature importances\n",
        "plt.figure(figsize=(10, 6))\n",
        "plt.title(\"Feature Importances\")\n",
        "plt.bar(range(X_train.shape[1]), feature_importances[indices], align=\"center\")\n",
        "plt.xticks(range(X_train.shape[1]), [feature_names[i] for i in indices], rotation=90)\n",
        "plt.xlabel(\"Feature Names\")\n",
        "plt.ylabel(\"Importance Score\")\n",
        "plt.show()\n"
      ]
    },
    {
      "cell_type": "code",
      "execution_count": 32,
      "metadata": {
        "colab": {
          "base_uri": "https://localhost:8080/"
        },
        "id": "iJkKakKtdNIx",
        "outputId": "584fb3db-b819-4236-eefa-f9d0c7222bba"
      },
      "outputs": [
        {
          "name": "stdout",
          "output_type": "stream",
          "text": [
            "Confusion Matrix:\n",
            " [[1751   71]\n",
            " [ 185 1512]]\n"
          ]
        }
      ],
      "source": [
        "from sklearn.metrics import confusion_matrix\n",
        "\n",
        "cm = confusion_matrix(y_test, y_pred)\n",
        "print(\"Confusion Matrix:\\n\", cm)\n"
      ]
    },
    {
      "cell_type": "code",
      "execution_count": 33,
      "metadata": {
        "colab": {
          "base_uri": "https://localhost:8080/"
        },
        "id": "QrFIdgAadYFZ",
        "outputId": "bf65fc25-8220-4d63-8a39-69b27faf144f"
      },
      "outputs": [
        {
          "data": {
            "text/plain": [
              "['random_forest_model.pkl']"
            ]
          },
          "execution_count": 33,
          "metadata": {},
          "output_type": "execute_result"
        }
      ],
      "source": [
        "import joblib\n",
        "joblib.dump(final_rf, \"random_forest_model.pkl\")  # Save the model\n"
      ]
    },
    {
      "cell_type": "markdown",
      "metadata": {
        "id": "iEESGZt8xu-9"
      },
      "source": [
        "# **Hyperparameter Tuning for AdaBoost**\n",
        "\n",
        "---\n",
        "\n"
      ]
    },
    {
      "cell_type": "code",
      "execution_count": 34,
      "metadata": {
        "colab": {
          "base_uri": "https://localhost:8080/"
        },
        "id": "eQeEuQGvxzdl",
        "outputId": "888b0ae7-f026-4672-a398-787016332f12"
      },
      "outputs": [
        {
          "name": "stderr",
          "output_type": "stream",
          "text": [
            "[I 2025-02-25 00:37:27,433] A new study created in memory with name: no-name-78e25739-7833-44db-8b6d-a85e4ff0c4f6\n",
            "[I 2025-02-25 00:37:38,289] Trial 6 finished with value: 0.8874454960142124 and parameters: {'n_estimators': 65, 'learning_rate': 0.8185437575470851, 'max_depth': 4}. Best is trial 6 with value: 0.8874454960142124.\n",
            "[I 2025-02-25 00:37:52,584] Trial 0 finished with value: 0.8721458788186114 and parameters: {'n_estimators': 181, 'learning_rate': 0.016982114160600584, 'max_depth': 2}. Best is trial 6 with value: 0.8874454960142124.\n",
            "[I 2025-02-25 00:37:57,769] Trial 1 finished with value: 0.8879054049541665 and parameters: {'n_estimators': 178, 'learning_rate': 0.42497787514738766, 'max_depth': 7}. Best is trial 1 with value: 0.8879054049541665.\n",
            "[I 2025-02-25 00:37:58,494] Trial 3 finished with value: 0.8917317335079877 and parameters: {'n_estimators': 176, 'learning_rate': 0.0440425451737287, 'max_depth': 8}. Best is trial 3 with value: 0.8917317335079877.\n",
            "[I 2025-02-25 00:38:03,193] Trial 2 finished with value: 0.8857662534324913 and parameters: {'n_estimators': 216, 'learning_rate': 0.2536009499065332, 'max_depth': 10}. Best is trial 3 with value: 0.8917317335079877.\n",
            "[I 2025-02-25 00:38:10,053] Trial 8 finished with value: 0.8870919038018837 and parameters: {'n_estimators': 246, 'learning_rate': 0.6807557690043201, 'max_depth': 9}. Best is trial 3 with value: 0.8917317335079877.\n",
            "[I 2025-02-25 00:38:10,673] Trial 9 finished with value: 0.865331137623499 and parameters: {'n_estimators': 381, 'learning_rate': 0.24544599481611912, 'max_depth': 1}. Best is trial 3 with value: 0.8917317335079877.\n",
            "[I 2025-02-25 00:38:12,251] Trial 4 finished with value: 0.8831515479137267 and parameters: {'n_estimators': 471, 'learning_rate': 0.34935750589162534, 'max_depth': 4}. Best is trial 3 with value: 0.8917317335079877.\n",
            "[I 2025-02-25 00:38:14,189] Trial 5 finished with value: 0.8894469145749243 and parameters: {'n_estimators': 375, 'learning_rate': 0.6279392528888476, 'max_depth': 9}. Best is trial 3 with value: 0.8917317335079877.\n",
            "[I 2025-02-25 00:38:16,778] Trial 7 finished with value: 0.8905873962557708 and parameters: {'n_estimators': 486, 'learning_rate': 0.02539737359832337, 'max_depth': 7}. Best is trial 3 with value: 0.8917317335079877.\n"
          ]
        },
        {
          "name": "stdout",
          "output_type": "stream",
          "text": [
            "Best hyperparameters: {'n_estimators': 176, 'learning_rate': 0.0440425451737287, 'max_depth': 8}\n"
          ]
        }
      ],
      "source": [
        "import optuna\n",
        "from sklearn.ensemble import AdaBoostClassifier\n",
        "from sklearn.tree import DecisionTreeClassifier\n",
        "from sklearn.model_selection import StratifiedKFold, cross_val_score\n",
        "from sklearn.metrics import make_scorer, average_precision_score\n",
        "\n",
        "# Define the Optuna optimization function\n",
        "def objective(trial):\n",
        "    n_estimators = trial.suggest_int(\"n_estimators\", 50, 500)  # Number of weak classifiers\n",
        "    learning_rate = trial.suggest_float(\"learning_rate\", 0.01, 1.0, log=True)  # Step size\n",
        "    max_depth = trial.suggest_int(\"max_depth\", 1, 10)  # Depth of base Decision Tree\n",
        "\n",
        "    # Define AdaBoost with Decision Tree as base estimator\n",
        "    model = AdaBoostClassifier(\n",
        "        estimator=DecisionTreeClassifier(max_depth=max_depth),  # Base learner\n",
        "        n_estimators=n_estimators,\n",
        "        learning_rate=learning_rate,\n",
        "        random_state=42\n",
        "    )\n",
        "\n",
        "    skf = StratifiedKFold(n_splits=3, shuffle=True, random_state=42)  # Reduced CV folds for speed\n",
        "    scores = cross_val_score(model, X_train, y_train, cv=skf, scoring=make_scorer(average_precision_score))\n",
        "\n",
        "    return scores.mean()  # Return PR-AUC score\n",
        "\n",
        "# Run Optuna optimization (10 trials for speed)\n",
        "study = optuna.create_study(direction=\"maximize\")\n",
        "study.optimize(objective, n_trials=10, n_jobs=-1)  # Run in parallel\n",
        "\n",
        "# Best hyperparameters found\n",
        "print(\"Best hyperparameters:\", study.best_params)\n"
      ]
    },
    {
      "cell_type": "markdown",
      "metadata": {
        "id": "7JFuAh4a7Jwa"
      },
      "source": [
        "**Training with best HyperParameters**"
      ]
    },
    {
      "cell_type": "code",
      "execution_count": 35,
      "metadata": {
        "colab": {
          "base_uri": "https://localhost:8080/"
        },
        "id": "4TMCaaMx7Iz8",
        "outputId": "792e1939-1ba0-4a30-f31f-dea49f17e22e"
      },
      "outputs": [
        {
          "name": "stdout",
          "output_type": "stream",
          "text": [
            "✅ AdaBoost Model Saved!\n"
          ]
        }
      ],
      "source": [
        "from sklearn.ensemble import AdaBoostClassifier\n",
        "from sklearn.tree import DecisionTreeClassifier\n",
        "from sklearn.metrics import accuracy_score, roc_auc_score, classification_report\n",
        "import joblib\n",
        "\n",
        "# Extract the best parameters from Optuna\n",
        "best_params = study.best_params\n",
        "\n",
        "# Train the final AdaBoost model with optimized hyperparameters\n",
        "final_ada = AdaBoostClassifier(\n",
        "    estimator=DecisionTreeClassifier(max_depth=best_params[\"max_depth\"]),\n",
        "    n_estimators=best_params[\"n_estimators\"],\n",
        "    learning_rate=best_params[\"learning_rate\"],\n",
        "    random_state=42\n",
        ")\n",
        "\n",
        "final_ada.fit(X_train, y_train)  # Train the model\n",
        "\n",
        "# Save the trained model\n",
        "joblib.dump(final_ada, \"adaboost_model.pkl\")\n",
        "print(\"✅ AdaBoost Model Saved!\")\n"
      ]
    },
    {
      "cell_type": "markdown",
      "metadata": {
        "id": "esD3kAlB7ajE"
      },
      "source": [
        "**Model Evaluation**"
      ]
    },
    {
      "cell_type": "code",
      "execution_count": 36,
      "metadata": {
        "colab": {
          "base_uri": "https://localhost:8080/"
        },
        "id": "wLvvOXJW7eGt",
        "outputId": "46038b56-849d-4b9b-bd90-ff253ac4c549"
      },
      "outputs": [
        {
          "name": "stdout",
          "output_type": "stream",
          "text": [
            "\n",
            "📌 AdaBoost Performance:\n",
            "Accuracy: 0.9253\n",
            "AUC-ROC: 0.9726\n",
            "              precision    recall  f1-score   support\n",
            "\n",
            "           0       0.90      0.96      0.93      1822\n",
            "           1       0.96      0.88      0.92      1697\n",
            "\n",
            "    accuracy                           0.93      3519\n",
            "   macro avg       0.93      0.92      0.92      3519\n",
            "weighted avg       0.93      0.93      0.93      3519\n",
            "\n"
          ]
        }
      ],
      "source": [
        "# Make predictions on the test set\n",
        "y_pred_ada = final_ada.predict(X_test)\n",
        "y_proba_ada = final_ada.predict_proba(X_test)[:, 1]\n",
        "\n",
        "# Print evaluation metrics\n",
        "print(\"\\n📌 AdaBoost Performance:\")\n",
        "print(f\"Accuracy: {accuracy_score(y_test, y_pred_ada):.4f}\")\n",
        "print(f\"AUC-ROC: {roc_auc_score(y_test, y_proba_ada):.4f}\")\n",
        "print(classification_report(y_test, y_pred_ada))\n"
      ]
    },
    {
      "cell_type": "code",
      "execution_count": null,
      "metadata": {
        "id": "iiPERzZe7f92"
      },
      "outputs": [],
      "source": []
    },
    {
      "cell_type": "markdown",
      "metadata": {
        "id": "973eLHii77lE"
      },
      "source": [
        "# **Gradient Boosting**\n",
        "\n",
        "---\n",
        "\n"
      ]
    },
    {
      "cell_type": "code",
      "execution_count": 37,
      "metadata": {
        "colab": {
          "base_uri": "https://localhost:8080/"
        },
        "id": "JPPAGcrI0d4A",
        "outputId": "78078def-43bc-4b80-d93a-704fe5438f70"
      },
      "outputs": [
        {
          "name": "stderr",
          "output_type": "stream",
          "text": [
            "[I 2025-02-25 00:38:20,604] A new study created in memory with name: no-name-53d553ed-efcf-44a8-bdf1-7c3721dae467\n",
            "[I 2025-02-25 00:38:53,044] Trial 0 finished with value: 0.8880967607527248 and parameters: {'n_estimators': 233, 'learning_rate': 0.012395189323892612, 'max_depth': 3, 'subsample': 0.9540992691576998, 'min_samples_split': 8}. Best is trial 0 with value: 0.8880967607527248.\n",
            "[I 2025-02-25 00:38:54,409] Trial 6 finished with value: 0.8924520419589634 and parameters: {'n_estimators': 184, 'learning_rate': 0.021623121558283196, 'max_depth': 4, 'subsample': 0.9454089583401546, 'min_samples_split': 9}. Best is trial 6 with value: 0.8924520419589634.\n",
            "[I 2025-02-25 00:38:57,629] Trial 7 finished with value: 0.8946133353979541 and parameters: {'n_estimators': 175, 'learning_rate': 0.04131019110579164, 'max_depth': 5, 'subsample': 0.6109658030924772, 'min_samples_split': 5}. Best is trial 7 with value: 0.8946133353979541.\n",
            "[I 2025-02-25 00:39:11,079] Trial 3 finished with value: 0.8892655303147747 and parameters: {'n_estimators': 361, 'learning_rate': 0.0325056914594255, 'max_depth': 3, 'subsample': 0.9504398152078157, 'min_samples_split': 10}. Best is trial 7 with value: 0.8946133353979541.\n",
            "[I 2025-02-25 00:39:11,974] Trial 5 finished with value: 0.8746947361976701 and parameters: {'n_estimators': 321, 'learning_rate': 0.22366601699736466, 'max_depth': 4, 'subsample': 0.7959897568652392, 'min_samples_split': 3}. Best is trial 7 with value: 0.8946133353979541.\n",
            "[I 2025-02-25 00:39:24,379] Trial 4 finished with value: 0.8943241884000198 and parameters: {'n_estimators': 270, 'learning_rate': 0.012211200685228548, 'max_depth': 5, 'subsample': 0.97985181172012, 'min_samples_split': 9}. Best is trial 7 with value: 0.8946133353979541.\n",
            "[I 2025-02-25 00:39:26,251] Trial 9 finished with value: 0.890086831045128 and parameters: {'n_estimators': 211, 'learning_rate': 0.10496279104743046, 'max_depth': 4, 'subsample': 0.9825694918850701, 'min_samples_split': 4}. Best is trial 7 with value: 0.8946133353979541.\n",
            "[I 2025-02-25 00:39:36,932] Trial 2 finished with value: 0.8341695558051598 and parameters: {'n_estimators': 394, 'learning_rate': 0.37352084230975413, 'max_depth': 6, 'subsample': 0.9199147028868446, 'min_samples_split': 8}. Best is trial 7 with value: 0.8946133353979541.\n",
            "[I 2025-02-25 00:39:40,549] Trial 1 finished with value: 0.8685816088698282 and parameters: {'n_estimators': 379, 'learning_rate': 0.13938350539069755, 'max_depth': 7, 'subsample': 0.78117522406707, 'min_samples_split': 10}. Best is trial 7 with value: 0.8946133353979541.\n",
            "[I 2025-02-25 00:40:09,359] Trial 8 finished with value: 0.8536991679326785 and parameters: {'n_estimators': 348, 'learning_rate': 0.24178303043056357, 'max_depth': 10, 'subsample': 0.7680977853452271, 'min_samples_split': 4}. Best is trial 7 with value: 0.8946133353979541.\n"
          ]
        },
        {
          "name": "stdout",
          "output_type": "stream",
          "text": [
            "Best hyperparameters: {'n_estimators': 175, 'learning_rate': 0.04131019110579164, 'max_depth': 5, 'subsample': 0.6109658030924772, 'min_samples_split': 5}\n"
          ]
        }
      ],
      "source": [
        "import optuna\n",
        "from sklearn.ensemble import GradientBoostingClassifier\n",
        "from sklearn.model_selection import StratifiedKFold, cross_val_score\n",
        "from sklearn.metrics import make_scorer, average_precision_score\n",
        "\n",
        "# Define the Optuna optimization function\n",
        "def objective(trial):\n",
        "    n_estimators = trial.suggest_int(\"n_estimators\", 50, 500)  # Number of boosting rounds\n",
        "    learning_rate = trial.suggest_float(\"learning_rate\", 0.01, 1.0, log=True)  # Learning rate\n",
        "    max_depth = trial.suggest_int(\"max_depth\", 3, 10)  # Depth of each tree\n",
        "    subsample = trial.suggest_float(\"subsample\", 0.5, 1.0)  # Subsampling for each tree\n",
        "    min_samples_split = trial.suggest_int(\"min_samples_split\", 2, 10)  # Min samples to split\n",
        "\n",
        "    # Define Gradient Boosting model\n",
        "    model = GradientBoostingClassifier(\n",
        "        n_estimators=n_estimators,\n",
        "        learning_rate=learning_rate,\n",
        "        max_depth=max_depth,\n",
        "        subsample=subsample,\n",
        "        min_samples_split=min_samples_split,\n",
        "        random_state=42\n",
        "    )\n",
        "\n",
        "    skf = StratifiedKFold(n_splits=3, shuffle=True, random_state=42)  # Reduce CV folds for speed\n",
        "    scores = cross_val_score(model, X_train, y_train, cv=skf, scoring=make_scorer(average_precision_score))\n",
        "\n",
        "    return scores.mean()  # Return PR-AUC score\n",
        "\n",
        "# Run Optuna optimization (10 trials for speed)\n",
        "study = optuna.create_study(direction=\"maximize\")\n",
        "study.optimize(objective, n_trials=10, n_jobs=-1)  # Run in parallel\n",
        "\n",
        "# Best hyperparameters found\n",
        "print(\"Best hyperparameters:\", study.best_params)\n"
      ]
    },
    {
      "cell_type": "markdown",
      "metadata": {
        "id": "Htskijdo92hR"
      },
      "source": [
        "**Training with best hyperparameters**"
      ]
    },
    {
      "cell_type": "code",
      "execution_count": 38,
      "metadata": {
        "colab": {
          "base_uri": "https://localhost:8080/"
        },
        "id": "sPZAXrnY96sH",
        "outputId": "45e6c2a2-c8ac-4dc1-a426-63687ad77215"
      },
      "outputs": [
        {
          "name": "stdout",
          "output_type": "stream",
          "text": [
            "✅ Gradient Boosting Model Saved!\n"
          ]
        }
      ],
      "source": [
        "from sklearn.ensemble import GradientBoostingClassifier\n",
        "from sklearn.metrics import accuracy_score, roc_auc_score, classification_report\n",
        "import joblib\n",
        "\n",
        "# Extract the best parameters from Optuna\n",
        "best_params = study.best_params\n",
        "\n",
        "# Train the final Gradient Boosting model with optimized hyperparameters\n",
        "final_gb = GradientBoostingClassifier(\n",
        "    n_estimators=best_params[\"n_estimators\"],\n",
        "    learning_rate=best_params[\"learning_rate\"],\n",
        "    max_depth=best_params[\"max_depth\"],\n",
        "    subsample=best_params[\"subsample\"],\n",
        "    min_samples_split=best_params[\"min_samples_split\"],\n",
        "    random_state=42\n",
        ")\n",
        "\n",
        "final_gb.fit(X_train, y_train)  # Train the model\n",
        "\n",
        "# Save the trained model\n",
        "joblib.dump(final_gb, \"gradient_boosting_model.pkl\")\n",
        "print(\"✅ Gradient Boosting Model Saved!\")\n"
      ]
    },
    {
      "cell_type": "markdown",
      "metadata": {
        "id": "159FSGa39_Eq"
      },
      "source": [
        "**Model Evaluation**"
      ]
    },
    {
      "cell_type": "code",
      "execution_count": 39,
      "metadata": {
        "colab": {
          "base_uri": "https://localhost:8080/"
        },
        "id": "TiLYeTpe9-kW",
        "outputId": "ec798f75-118a-47d7-f19d-fd3afe700957"
      },
      "outputs": [
        {
          "name": "stdout",
          "output_type": "stream",
          "text": [
            "\n",
            "📌 Gradient Boosting Performance:\n",
            "Accuracy: 0.9273\n",
            "AUC-ROC: 0.9742\n",
            "              precision    recall  f1-score   support\n",
            "\n",
            "           0       0.90      0.97      0.93      1822\n",
            "           1       0.96      0.89      0.92      1697\n",
            "\n",
            "    accuracy                           0.93      3519\n",
            "   macro avg       0.93      0.93      0.93      3519\n",
            "weighted avg       0.93      0.93      0.93      3519\n",
            "\n"
          ]
        }
      ],
      "source": [
        "# Make predictions on the test set\n",
        "y_pred_gb = final_gb.predict(X_test)\n",
        "y_proba_gb = final_gb.predict_proba(X_test)[:, 1]\n",
        "\n",
        "# Print evaluation metrics\n",
        "print(\"\\n📌 Gradient Boosting Performance:\")\n",
        "print(f\"Accuracy: {accuracy_score(y_test, y_pred_gb):.4f}\")\n",
        "print(f\"AUC-ROC: {roc_auc_score(y_test, y_proba_gb):.4f}\")\n",
        "print(classification_report(y_test, y_pred_gb))\n"
      ]
    },
    {
      "cell_type": "markdown",
      "metadata": {
        "id": "c0SJ8_tXBkxl"
      },
      "source": [
        "# **DNN**\n",
        "---\n",
        "\n"
      ]
    },
    {
      "cell_type": "code",
      "execution_count": 40,
      "metadata": {
        "colab": {
          "base_uri": "https://localhost:8080/"
        },
        "id": "qkUKvFVqAvCU",
        "outputId": "2eb5960a-9004-43e9-8833-575d38b51ce8"
      },
      "outputs": [
        {
          "name": "stderr",
          "output_type": "stream",
          "text": [
            "[I 2025-02-25 00:40:14,421] A new study created in memory with name: no-name-566a2385-19bf-408e-a3e0-0c26a85cc42e\n",
            "[I 2025-02-25 00:40:38,258] Trial 0 finished with value: 0.5870985984802246 and parameters: {'num_layers': 3, 'units': 192, 'dropout_rate': 0.45626411089105834, 'learning_rate': 0.0006999293478985762, 'batch_size': 64}. Best is trial 0 with value: 0.5870985984802246.\n",
            "[I 2025-02-25 00:40:47,709] Trial 1 finished with value: 0.7953964471817017 and parameters: {'num_layers': 1, 'units': 64, 'dropout_rate': 0.36281725038518, 'learning_rate': 0.00021493214185525, 'batch_size': 128}. Best is trial 1 with value: 0.7953964471817017.\n",
            "[I 2025-02-25 00:40:58,622] Trial 2 finished with value: 0.7985222935676575 and parameters: {'num_layers': 3, 'units': 64, 'dropout_rate': 0.30348336739070336, 'learning_rate': 0.0001093808200467214, 'batch_size': 64}. Best is trial 2 with value: 0.7985222935676575.\n",
            "[I 2025-02-25 00:41:10,869] Trial 3 finished with value: 0.8871838450431824 and parameters: {'num_layers': 1, 'units': 96, 'dropout_rate': 0.3288252132463624, 'learning_rate': 0.009711923159772562, 'batch_size': 32}. Best is trial 3 with value: 0.8871838450431824.\n",
            "[I 2025-02-25 00:41:19,868] Trial 4 finished with value: 0.8817846179008484 and parameters: {'num_layers': 2, 'units': 128, 'dropout_rate': 0.29861194750561065, 'learning_rate': 0.00018085638536144365, 'batch_size': 64}. Best is trial 3 with value: 0.8871838450431824.\n",
            "[I 2025-02-25 00:41:26,504] Trial 5 finished with value: 0.8851946592330933 and parameters: {'num_layers': 2, 'units': 96, 'dropout_rate': 0.49126108600354745, 'learning_rate': 0.002775510725491737, 'batch_size': 128}. Best is trial 3 with value: 0.8871838450431824.\n",
            "[I 2025-02-25 00:41:37,032] Trial 6 finished with value: 0.8454106450080872 and parameters: {'num_layers': 1, 'units': 256, 'dropout_rate': 0.4181050741744202, 'learning_rate': 0.00010670693110129506, 'batch_size': 64}. Best is trial 3 with value: 0.8871838450431824.\n",
            "[I 2025-02-25 00:41:46,199] Trial 7 finished with value: 0.8877521753311157 and parameters: {'num_layers': 3, 'units': 192, 'dropout_rate': 0.1422845899634076, 'learning_rate': 0.005447263243168254, 'batch_size': 128}. Best is trial 7 with value: 0.8877521753311157.\n",
            "[I 2025-02-25 00:41:52,247] Trial 8 finished with value: 0.8465473055839539 and parameters: {'num_layers': 1, 'units': 32, 'dropout_rate': 0.373870566162939, 'learning_rate': 0.00011654832574107605, 'batch_size': 128}. Best is trial 7 with value: 0.8877521753311157.\n",
            "[I 2025-02-25 00:42:05,447] Trial 9 finished with value: 0.8868997097015381 and parameters: {'num_layers': 1, 'units': 160, 'dropout_rate': 0.43349032671263443, 'learning_rate': 0.006158003846100747, 'batch_size': 32}. Best is trial 7 with value: 0.8877521753311157.\n"
          ]
        },
        {
          "name": "stdout",
          "output_type": "stream",
          "text": [
            "Best hyperparameters: {'num_layers': 3, 'units': 192, 'dropout_rate': 0.1422845899634076, 'learning_rate': 0.005447263243168254, 'batch_size': 128}\n"
          ]
        }
      ],
      "source": [
        "import optuna\n",
        "import tensorflow as tf\n",
        "from tensorflow import keras\n",
        "from sklearn.model_selection import train_test_split\n",
        "from sklearn.metrics import accuracy_score, roc_auc_score\n",
        "import numpy as np\n",
        "\n",
        "# Convert labels to categorical (if needed)\n",
        "y_train_cat = keras.utils.to_categorical(y_train, num_classes=2)\n",
        "y_test_cat = keras.utils.to_categorical(y_test, num_classes=2)\n",
        "\n",
        "# Define the Optuna optimization function\n",
        "def objective(trial):\n",
        "    num_layers = trial.suggest_int(\"num_layers\", 1, 3)  # Number of hidden layers\n",
        "    units = trial.suggest_int(\"units\", 32, 256, step=32)  # Neurons per layer\n",
        "    dropout_rate = trial.suggest_float(\"dropout_rate\", 0.1, 0.5)  # Dropout rate\n",
        "    learning_rate = trial.suggest_float(\"learning_rate\", 1e-4, 1e-2, log=True)  # Learning rate\n",
        "    batch_size = trial.suggest_categorical(\"batch_size\", [32, 64, 128])  # Mini-batch size\n",
        "\n",
        "    # Define the model\n",
        "    model = keras.Sequential()\n",
        "    model.add(keras.layers.Input(shape=(X_train.shape[1],)))  # Input layer\n",
        "\n",
        "    for _ in range(num_layers):\n",
        "        model.add(keras.layers.Dense(units, activation=\"relu\"))\n",
        "        model.add(keras.layers.Dropout(dropout_rate))\n",
        "\n",
        "    model.add(keras.layers.Dense(2, activation=\"softmax\"))  # Output layer (2 classes)\n",
        "\n",
        "    # Compile the model\n",
        "    model.compile(\n",
        "        optimizer=keras.optimizers.Adam(learning_rate=learning_rate),\n",
        "        loss=\"categorical_crossentropy\",\n",
        "        metrics=[\"accuracy\"]\n",
        "    )\n",
        "\n",
        "    # Train the model\n",
        "    history = model.fit(\n",
        "        X_train, y_train_cat,\n",
        "        validation_data=(X_test, y_test_cat),\n",
        "        epochs=10,  # Reduce for faster tuning\n",
        "        batch_size=batch_size,\n",
        "        verbose=0\n",
        "    )\n",
        "\n",
        "    # Get validation accuracy as objective metric\n",
        "    val_accuracy = max(history.history[\"val_accuracy\"])\n",
        "    return val_accuracy\n",
        "\n",
        "# Run Optuna optimization (10 trials for speed)\n",
        "study = optuna.create_study(direction=\"maximize\")\n",
        "study.optimize(objective, n_trials=10)\n",
        "\n",
        "# Best hyperparameters found\n",
        "print(\"Best hyperparameters:\", study.best_params)\n"
      ]
    },
    {
      "cell_type": "code",
      "execution_count": 41,
      "metadata": {
        "colab": {
          "base_uri": "https://localhost:8080/"
        },
        "id": "PRLdXaH3BY51",
        "outputId": "21483e71-d76c-400d-d56a-c08376db3248"
      },
      "outputs": [
        {
          "name": "stdout",
          "output_type": "stream",
          "text": [
            "Epoch 1/30\n"
          ]
        },
        {
          "name": "stderr",
          "output_type": "stream",
          "text": [
            "c:\\Users\\krupa\\anaconda3\\Lib\\site-packages\\keras\\src\\layers\\core\\dense.py:87: UserWarning: Do not pass an `input_shape`/`input_dim` argument to a layer. When using Sequential models, prefer using an `Input(shape)` object as the first layer in the model instead.\n",
            "  super().__init__(activity_regularizer=activity_regularizer, **kwargs)\n"
          ]
        },
        {
          "name": "stdout",
          "output_type": "stream",
          "text": [
            "\u001b[1m110/110\u001b[0m \u001b[32m━━━━━━━━━━━━━━━━━━━━\u001b[0m\u001b[37m\u001b[0m \u001b[1m3s\u001b[0m 7ms/step - accuracy: 0.5182 - loss: 31.0037 - val_accuracy: 0.5178 - val_loss: 0.6975\n",
            "Epoch 2/30\n",
            "\u001b[1m110/110\u001b[0m \u001b[32m━━━━━━━━━━━━━━━━━━━━\u001b[0m\u001b[37m\u001b[0m \u001b[1m1s\u001b[0m 6ms/step - accuracy: 0.5662 - loss: 0.7073 - val_accuracy: 0.7957 - val_loss: 0.6043\n",
            "Epoch 3/30\n",
            "\u001b[1m110/110\u001b[0m \u001b[32m━━━━━━━━━━━━━━━━━━━━\u001b[0m\u001b[37m\u001b[0m \u001b[1m1s\u001b[0m 6ms/step - accuracy: 0.6721 - loss: 0.6550 - val_accuracy: 0.8380 - val_loss: 0.5197\n",
            "Epoch 4/30\n",
            "\u001b[1m110/110\u001b[0m \u001b[32m━━━━━━━━━━━━━━━━━━━━\u001b[0m\u001b[37m\u001b[0m \u001b[1m1s\u001b[0m 7ms/step - accuracy: 0.7497 - loss: 0.5490 - val_accuracy: 0.8684 - val_loss: 0.7391\n",
            "Epoch 5/30\n",
            "\u001b[1m110/110\u001b[0m \u001b[32m━━━━━━━━━━━━━━━━━━━━\u001b[0m\u001b[37m\u001b[0m \u001b[1m1s\u001b[0m 11ms/step - accuracy: 0.7811 - loss: 0.4987 - val_accuracy: 0.8704 - val_loss: 0.4368\n",
            "Epoch 6/30\n",
            "\u001b[1m110/110\u001b[0m \u001b[32m━━━━━━━━━━━━━━━━━━━━\u001b[0m\u001b[37m\u001b[0m \u001b[1m1s\u001b[0m 11ms/step - accuracy: 0.7986 - loss: 0.4790 - val_accuracy: 0.8357 - val_loss: 0.5341\n",
            "Epoch 7/30\n",
            "\u001b[1m110/110\u001b[0m \u001b[32m━━━━━━━━━━━━━━━━━━━━\u001b[0m\u001b[37m\u001b[0m \u001b[1m1s\u001b[0m 11ms/step - accuracy: 0.8300 - loss: 0.4735 - val_accuracy: 0.8568 - val_loss: 0.3687\n",
            "Epoch 8/30\n",
            "\u001b[1m110/110\u001b[0m \u001b[32m━━━━━━━━━━━━━━━━━━━━\u001b[0m\u001b[37m\u001b[0m \u001b[1m1s\u001b[0m 10ms/step - accuracy: 0.8200 - loss: 0.4470 - val_accuracy: 0.8713 - val_loss: 0.3412\n",
            "Epoch 9/30\n",
            "\u001b[1m110/110\u001b[0m \u001b[32m━━━━━━━━━━━━━━━━━━━━\u001b[0m\u001b[37m\u001b[0m \u001b[1m1s\u001b[0m 6ms/step - accuracy: 0.8521 - loss: 0.3981 - val_accuracy: 0.8829 - val_loss: 0.3530\n",
            "Epoch 10/30\n",
            "\u001b[1m110/110\u001b[0m \u001b[32m━━━━━━━━━━━━━━━━━━━━\u001b[0m\u001b[37m\u001b[0m \u001b[1m1s\u001b[0m 10ms/step - accuracy: 0.8452 - loss: 0.4091 - val_accuracy: 0.8642 - val_loss: 0.3508\n",
            "Epoch 11/30\n",
            "\u001b[1m110/110\u001b[0m \u001b[32m━━━━━━━━━━━━━━━━━━━━\u001b[0m\u001b[37m\u001b[0m \u001b[1m1s\u001b[0m 10ms/step - accuracy: 0.8497 - loss: 0.3916 - val_accuracy: 0.8534 - val_loss: 0.3717\n",
            "Epoch 12/30\n",
            "\u001b[1m110/110\u001b[0m \u001b[32m━━━━━━━━━━━━━━━━━━━━\u001b[0m\u001b[37m\u001b[0m \u001b[1m1s\u001b[0m 10ms/step - accuracy: 0.8138 - loss: 0.4486 - val_accuracy: 0.8483 - val_loss: 0.3775\n",
            "Epoch 13/30\n",
            "\u001b[1m110/110\u001b[0m \u001b[32m━━━━━━━━━━━━━━━━━━━━\u001b[0m\u001b[37m\u001b[0m \u001b[1m1s\u001b[0m 10ms/step - accuracy: 0.8175 - loss: 0.4397 - val_accuracy: 0.8662 - val_loss: 0.3607\n",
            "Epoch 14/30\n",
            "\u001b[1m110/110\u001b[0m \u001b[32m━━━━━━━━━━━━━━━━━━━━\u001b[0m\u001b[37m\u001b[0m \u001b[1m1s\u001b[0m 10ms/step - accuracy: 0.8134 - loss: 0.4467 - val_accuracy: 0.8852 - val_loss: 0.3543\n",
            "Epoch 15/30\n",
            "\u001b[1m110/110\u001b[0m \u001b[32m━━━━━━━━━━━━━━━━━━━━\u001b[0m\u001b[37m\u001b[0m \u001b[1m1s\u001b[0m 11ms/step - accuracy: 0.8176 - loss: 0.4482 - val_accuracy: 0.8849 - val_loss: 0.3471\n",
            "Epoch 16/30\n",
            "\u001b[1m110/110\u001b[0m \u001b[32m━━━━━━━━━━━━━━━━━━━━\u001b[0m\u001b[37m\u001b[0m \u001b[1m1s\u001b[0m 10ms/step - accuracy: 0.8187 - loss: 0.4349 - val_accuracy: 0.8781 - val_loss: 0.3482\n",
            "Epoch 17/30\n",
            "\u001b[1m110/110\u001b[0m \u001b[32m━━━━━━━━━━━━━━━━━━━━\u001b[0m\u001b[37m\u001b[0m \u001b[1m1s\u001b[0m 5ms/step - accuracy: 0.8555 - loss: 0.3837 - val_accuracy: 0.8724 - val_loss: 0.3404\n",
            "Epoch 18/30\n",
            "\u001b[1m110/110\u001b[0m \u001b[32m━━━━━━━━━━━━━━━━━━━━\u001b[0m\u001b[37m\u001b[0m \u001b[1m1s\u001b[0m 5ms/step - accuracy: 0.8596 - loss: 0.3805 - val_accuracy: 0.8556 - val_loss: 0.3613\n",
            "Epoch 19/30\n",
            "\u001b[1m110/110\u001b[0m \u001b[32m━━━━━━━━━━━━━━━━━━━━\u001b[0m\u001b[37m\u001b[0m \u001b[1m1s\u001b[0m 5ms/step - accuracy: 0.8561 - loss: 0.3895 - val_accuracy: 0.8815 - val_loss: 0.3334\n",
            "Epoch 20/30\n",
            "\u001b[1m110/110\u001b[0m \u001b[32m━━━━━━━━━━━━━━━━━━━━\u001b[0m\u001b[37m\u001b[0m \u001b[1m1s\u001b[0m 6ms/step - accuracy: 0.8634 - loss: 0.3773 - val_accuracy: 0.8812 - val_loss: 0.3309\n",
            "Epoch 21/30\n",
            "\u001b[1m110/110\u001b[0m \u001b[32m━━━━━━━━━━━━━━━━━━━━\u001b[0m\u001b[37m\u001b[0m \u001b[1m1s\u001b[0m 5ms/step - accuracy: 0.8741 - loss: 0.3577 - val_accuracy: 0.8878 - val_loss: 0.3321\n",
            "Epoch 22/30\n",
            "\u001b[1m110/110\u001b[0m \u001b[32m━━━━━━━━━━━━━━━━━━━━\u001b[0m\u001b[37m\u001b[0m \u001b[1m1s\u001b[0m 6ms/step - accuracy: 0.8711 - loss: 0.3600 - val_accuracy: 0.8755 - val_loss: 0.3375\n",
            "Epoch 23/30\n",
            "\u001b[1m110/110\u001b[0m \u001b[32m━━━━━━━━━━━━━━━━━━━━\u001b[0m\u001b[37m\u001b[0m \u001b[1m1s\u001b[0m 5ms/step - accuracy: 0.8677 - loss: 0.3675 - val_accuracy: 0.8849 - val_loss: 0.3303\n",
            "Epoch 24/30\n",
            "\u001b[1m110/110\u001b[0m \u001b[32m━━━━━━━━━━━━━━━━━━━━\u001b[0m\u001b[37m\u001b[0m \u001b[1m1s\u001b[0m 5ms/step - accuracy: 0.8732 - loss: 0.3589 - val_accuracy: 0.8721 - val_loss: 0.3438\n",
            "Epoch 25/30\n",
            "\u001b[1m110/110\u001b[0m \u001b[32m━━━━━━━━━━━━━━━━━━━━\u001b[0m\u001b[37m\u001b[0m \u001b[1m1s\u001b[0m 5ms/step - accuracy: 0.8647 - loss: 0.3770 - val_accuracy: 0.8815 - val_loss: 0.3323\n",
            "Epoch 26/30\n",
            "\u001b[1m110/110\u001b[0m \u001b[32m━━━━━━━━━━━━━━━━━━━━\u001b[0m\u001b[37m\u001b[0m \u001b[1m1s\u001b[0m 5ms/step - accuracy: 0.8744 - loss: 0.3638 - val_accuracy: 0.8787 - val_loss: 0.3300\n",
            "Epoch 27/30\n",
            "\u001b[1m110/110\u001b[0m \u001b[32m━━━━━━━━━━━━━━━━━━━━\u001b[0m\u001b[37m\u001b[0m \u001b[1m1s\u001b[0m 5ms/step - accuracy: 0.8740 - loss: 0.3535 - val_accuracy: 0.8863 - val_loss: 0.3337\n",
            "Epoch 28/30\n",
            "\u001b[1m110/110\u001b[0m \u001b[32m━━━━━━━━━━━━━━━━━━━━\u001b[0m\u001b[37m\u001b[0m \u001b[1m1s\u001b[0m 7ms/step - accuracy: 0.8739 - loss: 0.3561 - val_accuracy: 0.8824 - val_loss: 0.3347\n",
            "Epoch 29/30\n",
            "\u001b[1m110/110\u001b[0m \u001b[32m━━━━━━━━━━━━━━━━━━━━\u001b[0m\u001b[37m\u001b[0m \u001b[1m1s\u001b[0m 6ms/step - accuracy: 0.8737 - loss: 0.3569 - val_accuracy: 0.8852 - val_loss: 0.3318\n",
            "Epoch 30/30\n",
            "\u001b[1m110/110\u001b[0m \u001b[32m━━━━━━━━━━━━━━━━━━━━\u001b[0m\u001b[37m\u001b[0m \u001b[1m1s\u001b[0m 7ms/step - accuracy: 0.8760 - loss: 0.3526 - val_accuracy: 0.8772 - val_loss: 0.3333\n"
          ]
        },
        {
          "name": "stderr",
          "output_type": "stream",
          "text": [
            "WARNING:absl:You are saving your model as an HDF5 file via `model.save()` or `keras.saving.save_model(model)`. This file format is considered legacy. We recommend using instead the native Keras format, e.g. `model.save('my_model.keras')` or `keras.saving.save_model(model, 'my_model.keras')`. \n"
          ]
        },
        {
          "name": "stdout",
          "output_type": "stream",
          "text": [
            "✅ Deep Neural Network Model Saved!\n"
          ]
        }
      ],
      "source": [
        "import tensorflow as tf\n",
        "from tensorflow.keras.models import Sequential\n",
        "from tensorflow.keras.layers import Dense, Dropout\n",
        "from tensorflow.keras.optimizers import Adam\n",
        "import joblib\n",
        "\n",
        "# Extract the best parameters from Optuna\n",
        "best_params = study.best_params\n",
        "\n",
        "# Build the optimized DNN model\n",
        "final_dnn = Sequential()\n",
        "final_dnn.add(Dense(best_params[\"units\"], activation=\"relu\", input_shape=(X_train.shape[1],)))\n",
        "final_dnn.add(Dropout(best_params[\"dropout_rate\"]))\n",
        "\n",
        "for _ in range(best_params[\"num_layers\"] - 1):\n",
        "    final_dnn.add(Dense(best_params[\"units\"], activation=\"relu\"))\n",
        "    final_dnn.add(Dropout(best_params[\"dropout_rate\"]))\n",
        "\n",
        "final_dnn.add(Dense(2, activation=\"softmax\"))  # Output layer for binary classification\n",
        "\n",
        "# Compile the model\n",
        "final_dnn.compile(\n",
        "    optimizer=Adam(learning_rate=best_params[\"learning_rate\"]),\n",
        "    loss=\"categorical_crossentropy\",\n",
        "    metrics=[\"accuracy\"]\n",
        ")\n",
        "\n",
        "# Convert labels to categorical\n",
        "y_train_cat = tf.keras.utils.to_categorical(y_train, num_classes=2)\n",
        "y_test_cat = tf.keras.utils.to_categorical(y_test, num_classes=2)\n",
        "\n",
        "# Train the final DNN model\n",
        "history = final_dnn.fit(\n",
        "    X_train, y_train_cat,\n",
        "    validation_data=(X_test, y_test_cat),\n",
        "    epochs=30,  # Increase if needed\n",
        "    batch_size=best_params[\"batch_size\"],\n",
        "    verbose=1\n",
        ")\n",
        "\n",
        "# Save the trained model\n",
        "final_dnn.save(\"dnn_pdf_malware_model.h5\")\n",
        "print(\"✅ Deep Neural Network Model Saved!\")\n"
      ]
    },
    {
      "cell_type": "markdown",
      "metadata": {
        "id": "6MEDx8X4BtzO"
      },
      "source": [
        "**Evaluation**"
      ]
    },
    {
      "cell_type": "code",
      "execution_count": 42,
      "metadata": {
        "colab": {
          "base_uri": "https://localhost:8080/"
        },
        "id": "laY-loHlBwLR",
        "outputId": "fd02c68d-aba9-439f-ab7a-71138a600938"
      },
      "outputs": [
        {
          "name": "stdout",
          "output_type": "stream",
          "text": [
            "\u001b[1m110/110\u001b[0m \u001b[32m━━━━━━━━━━━━━━━━━━━━\u001b[0m\u001b[37m\u001b[0m \u001b[1m0s\u001b[0m 1ms/step  \n",
            "\n",
            "📌 Deep Neural Network Performance:\n",
            "Accuracy: 0.8772\n",
            "AUC-ROC: 0.8978\n",
            "              precision    recall  f1-score   support\n",
            "\n",
            "           0       0.85      0.93      0.89      1822\n",
            "           1       0.92      0.82      0.87      1697\n",
            "\n",
            "    accuracy                           0.88      3519\n",
            "   macro avg       0.88      0.88      0.88      3519\n",
            "weighted avg       0.88      0.88      0.88      3519\n",
            "\n"
          ]
        }
      ],
      "source": [
        "from sklearn.metrics import roc_auc_score, classification_report\n",
        "\n",
        "# Make predictions on the test set\n",
        "y_proba_dnn = final_dnn.predict(X_test)\n",
        "y_pred_dnn = y_proba_dnn.argmax(axis=1)  # Get the class with highest probability\n",
        "\n",
        "# Print evaluation metrics\n",
        "print(\"\\n📌 Deep Neural Network Performance:\")\n",
        "print(f\"Accuracy: {accuracy_score(y_test, y_pred_dnn):.4f}\")\n",
        "print(f\"AUC-ROC: {roc_auc_score(y_test, y_proba_dnn[:, 1]):.4f}\")\n",
        "print(classification_report(y_test, y_pred_dnn))\n"
      ]
    },
    {
      "cell_type": "markdown",
      "metadata": {
        "id": "GTKZsPpRCKjP"
      },
      "source": [
        "# **Model Selection**\n",
        "\n",
        "---\n",
        "\n"
      ]
    },
    {
      "cell_type": "markdown",
      "metadata": {
        "id": "7uZJb5szCTA4"
      },
      "source": [
        "**Compare Model Performances**"
      ]
    },
    {
      "cell_type": "code",
      "execution_count": 44,
      "metadata": {
        "colab": {
          "base_uri": "https://localhost:8080/",
          "height": 1000
        },
        "id": "gqTBiQepCRmq",
        "outputId": "83b95114-2087-4a32-8f86-dcadc0c3cfc5"
      },
      "outputs": [
        {
          "name": "stdout",
          "output_type": "stream",
          "text": [
            "\n",
            "📌 Random Forest Performance:\n",
            "Accuracy: 0.9273\n",
            "AUC-ROC: 0.9725\n",
            "              precision    recall  f1-score   support\n",
            "\n",
            "           0       0.90      0.96      0.93      1822\n",
            "           1       0.96      0.89      0.92      1697\n",
            "\n",
            "    accuracy                           0.93      3519\n",
            "   macro avg       0.93      0.93      0.93      3519\n",
            "weighted avg       0.93      0.93      0.93      3519\n",
            "\n"
          ]
        },
        {
          "data": {
            "image/png": "[encoded data removed]",
            "text/plain": [
              "<Figure size 500x400 with 2 Axes>"
            ]
          },
          "metadata": {},
          "output_type": "display_data"
        },
        {
          "name": "stdout",
          "output_type": "stream",
          "text": [
            "\n",
            "📌 SVM Performance:\n",
            "Accuracy: 0.9048\n",
            "AUC-ROC: 0.9555\n",
            "              precision    recall  f1-score   support\n",
            "\n",
            "           0       0.87      0.95      0.91      1822\n",
            "           1       0.94      0.85      0.90      1697\n",
            "\n",
            "    accuracy                           0.90      3519\n",
            "   macro avg       0.91      0.90      0.90      3519\n",
            "weighted avg       0.91      0.90      0.90      3519\n",
            "\n"
          ]
        },
        {
          "data": {
            "image/png": "[encoded data removed]",
            "text/plain": [
              "<Figure size 500x400 with 2 Axes>"
            ]
          },
          "metadata": {},
          "output_type": "display_data"
        },
        {
          "name": "stdout",
          "output_type": "stream",
          "text": [
            "\n",
            "📌 AdaBoost Performance:\n",
            "Accuracy: 0.9253\n",
            "AUC-ROC: 0.9726\n",
            "              precision    recall  f1-score   support\n",
            "\n",
            "           0       0.90      0.96      0.93      1822\n",
            "           1       0.96      0.88      0.92      1697\n",
            "\n",
            "    accuracy                           0.93      3519\n",
            "   macro avg       0.93      0.92      0.92      3519\n",
            "weighted avg       0.93      0.93      0.93      3519\n",
            "\n"
          ]
        },
        {
          "data": {
            "image/png": "[encoded data removed]",
            "text/plain": [
              "<Figure size 500x400 with 2 Axes>"
            ]
          },
          "metadata": {},
          "output_type": "display_data"
        },
        {
          "name": "stdout",
          "output_type": "stream",
          "text": [
            "\n",
            "📌 Gradient Boosting Performance:\n",
            "Accuracy: 0.9273\n",
            "AUC-ROC: 0.9742\n",
            "              precision    recall  f1-score   support\n",
            "\n",
            "           0       0.90      0.97      0.93      1822\n",
            "           1       0.96      0.89      0.92      1697\n",
            "\n",
            "    accuracy                           0.93      3519\n",
            "   macro avg       0.93      0.93      0.93      3519\n",
            "weighted avg       0.93      0.93      0.93      3519\n",
            "\n"
          ]
        },
        {
          "data": {
            "image/png": "[encoded data removed]",
            "text/plain": [
              "<Figure size 500x400 with 2 Axes>"
            ]
          },
          "metadata": {},
          "output_type": "display_data"
        },
        {
          "name": "stdout",
          "output_type": "stream",
          "text": [
            "\u001b[1m110/110\u001b[0m \u001b[32m━━━━━━━━━━━━━━━━━━━━\u001b[0m\u001b[37m\u001b[0m \u001b[1m0s\u001b[0m 2ms/step\n",
            "\n",
            "📌 DNN Performance:\n",
            "Accuracy: 0.8772\n",
            "AUC-ROC: 0.8978\n",
            "              precision    recall  f1-score   support\n",
            "\n",
            "           0       0.85      0.93      0.89      1822\n",
            "           1       0.92      0.82      0.87      1697\n",
            "\n",
            "    accuracy                           0.88      3519\n",
            "   macro avg       0.88      0.88      0.88      3519\n",
            "weighted avg       0.88      0.88      0.88      3519\n",
            "\n"
          ]
        },
        {
          "data": {
            "image/png": "[encoded data removed]",
            "text/plain": [
              "<Figure size 500x400 with 2 Axes>"
            ]
          },
          "metadata": {},
          "output_type": "display_data"
        },
        {
          "name": "stderr",
          "output_type": "stream",
          "text": [
            "c:\\Users\\krupa\\anaconda3\\Lib\\site-packages\\seaborn\\_oldcore.py:1765: FutureWarning: unique with argument that is not not a Series, Index, ExtensionArray, or np.ndarray is deprecated and will raise in a future version.\n",
            "  order = pd.unique(vector)\n"
          ]
        },
        {
          "data": {
            "image/png": "[encoded data removed]",
            "text/plain": [
              "<Figure size 800x500 with 1 Axes>"
            ]
          },
          "metadata": {},
          "output_type": "display_data"
        },
        {
          "name": "stderr",
          "output_type": "stream",
          "text": [
            "c:\\Users\\krupa\\anaconda3\\Lib\\site-packages\\seaborn\\_oldcore.py:1765: FutureWarning: unique with argument that is not not a Series, Index, ExtensionArray, or np.ndarray is deprecated and will raise in a future version.\n",
            "  order = pd.unique(vector)\n"
          ]
        },
        {
          "data": {
            "image/png": "[encoded data removed]",
            "text/plain": [
              "<Figure size 800x500 with 1 Axes>"
            ]
          },
          "metadata": {},
          "output_type": "display_data"
        }
      ],
      "source": [
        "import matplotlib.pyplot as plt\n",
        "import seaborn as sns\n",
        "from sklearn.metrics import accuracy_score, roc_auc_score, classification_report, confusion_matrix\n",
        "\n",
        "# Define mapping for string predictions to numeric labels\n",
        "label_mapping = {'benign': 0, 'malicious': 1}\n",
        "\n",
        "# Store model names and predictions\n",
        "models = {\n",
        "    \"Random Forest\": final_rf,\n",
        "    \"SVM\": final_svm,\n",
        "    \"AdaBoost\": final_ada,\n",
        "    \"Gradient Boosting\": final_gb,\n",
        "    \"DNN\": final_dnn\n",
        "}\n",
        "\n",
        "# Initialize lists for comparison\n",
        "accuracy_scores = []\n",
        "auc_scores = []\n",
        "\n",
        "# Iterate over models and evaluate\n",
        "for name, model in models.items():\n",
        "    if name == \"DNN\":  # Special handling for deep learning model\n",
        "        y_proba = model.predict(X_test)\n",
        "        y_pred = y_proba.argmax(axis=1)\n",
        "        auc = roc_auc_score(y_test, y_proba[:, 1])\n",
        "    else:\n",
        "        y_pred = model.predict(X_test)\n",
        "        # Convert string predictions to numeric if needed\n",
        "        y_pred = [label_mapping[label] if isinstance(label, str) else label for label in y_pred]\n",
        "        y_proba = model.predict_proba(X_test)[:, 1]\n",
        "        auc = roc_auc_score(y_test, y_proba)\n",
        "    \n",
        "    acc = accuracy_score(y_test, y_pred)\n",
        "    accuracy_scores.append(acc)\n",
        "    auc_scores.append(auc)\n",
        "    \n",
        "    print(f\"\\n📌 {name} Performance:\")\n",
        "    print(f\"Accuracy: {acc:.4f}\")\n",
        "    print(f\"AUC-ROC: {auc:.4f}\")\n",
        "    print(classification_report(y_test, y_pred))\n",
        "    \n",
        "    # Plot confusion matrix\n",
        "    plt.figure(figsize=(5, 4))\n",
        "    sns.heatmap(confusion_matrix(y_test, y_pred), annot=True, fmt=\"d\", cmap=\"Blues\")\n",
        "    plt.title(f\"{name} Confusion Matrix\")\n",
        "    plt.xlabel(\"Predicted\")\n",
        "    plt.ylabel(\"Actual\")\n",
        "    plt.show()\n",
        "\n",
        "# Plot Accuracy & AUC-ROC Score\n",
        "plt.figure(figsize=(8, 5))\n",
        "sns.barplot(x=list(models.keys()), y=accuracy_scores)\n",
        "plt.title(\"Model Accuracy Comparison\")\n",
        "plt.ylabel(\"Accuracy Score\")\n",
        "plt.xticks(rotation=45)\n",
        "plt.show()\n",
        "\n",
        "plt.figure(figsize=(8, 5))\n",
        "sns.barplot(x=list(models.keys()), y=auc_scores)\n",
        "plt.title(\"Model AUC-ROC Comparison\")\n",
        "plt.ylabel(\"AUC-ROC Score\")\n",
        "plt.xticks(rotation=45)\n",
        "plt.show()\n"
      ]
    },
    {
      "cell_type": "markdown",
      "metadata": {
        "id": "6jXzL-rqCm8y"
      },
      "source": [
        "**Find and Save Best Model**"
      ]
    },
    {
      "cell_type": "code",
      "execution_count": 45,
      "metadata": {
        "colab": {
          "base_uri": "https://localhost:8080/"
        },
        "id": "USID3k01CniX",
        "outputId": "54e54eec-ddc9-4652-b5a7-7c60962f22c5"
      },
      "outputs": [
        {
          "name": "stdout",
          "output_type": "stream",
          "text": [
            "\u001b[1m110/110\u001b[0m \u001b[32m━━━━━━━━━━━━━━━━━━━━\u001b[0m\u001b[37m\u001b[0m \u001b[1m0s\u001b[0m 2ms/step\n",
            "\n",
            "🏆 Best Model Selected: Gradient Boosting with AUC-ROC: 0.9742\n",
            "✅ Best Model Saved as 'best_model.pkl'\n"
          ]
        }
      ],
      "source": [
        "# Store model names and their scores\n",
        "model_scores = {\n",
        "    \"Random Forest\": roc_auc_score(y_test, final_rf.predict_proba(X_test)[:, 1]),\n",
        "    \"SVM\": roc_auc_score(y_test, final_svm.predict_proba(X_test)[:, 1]),\n",
        "    \"AdaBoost\": roc_auc_score(y_test, final_ada.predict_proba(X_test)[:, 1]),\n",
        "    \"Gradient Boosting\": roc_auc_score(y_test, final_gb.predict_proba(X_test)[:, 1]),\n",
        "    \"DNN\": roc_auc_score(y_test, final_dnn.predict(X_test)[:, 1])  # Special handling for DNN\n",
        "}\n",
        "\n",
        "# Select the best model\n",
        "best_model_name = max(model_scores, key=model_scores.get)\n",
        "print(f\"\\n🏆 Best Model Selected: {best_model_name} with AUC-ROC: {model_scores[best_model_name]:.4f}\")\n",
        "\n",
        "# Save the best model\n",
        "import joblib\n",
        "\n",
        "if best_model_name == \"DNN\":\n",
        "    final_dnn.save(\"best_model.h5\")  # Save Keras model\n",
        "    print(\"✅ Best Model Saved as 'best_model.h5'\")\n",
        "else:\n",
        "    best_model = {\n",
        "        \"Random Forest\": final_rf,\n",
        "        \"SVM\": final_svm,\n",
        "        \"AdaBoost\": final_ada,\n",
        "        \"Gradient Boosting\": final_gb\n",
        "    }[best_model_name]\n",
        "\n",
        "    joblib.dump(best_model, \"best_model.pkl\")  # Save Sklearn model\n",
        "    print(\"✅ Best Model Saved as 'best_model.pkl'\")\n"
      ]
    },
    {
      "cell_type": "code",
      "execution_count": 56,
      "metadata": {},
      "outputs": [
        {
          "name": "stdout",
          "output_type": "stream",
          "text": [
            "✅ Available columns in dataset: ['filename', 'label', 'header_length', 'file_size_kb', 'file_type', 'text_preview', 'num_pages', 'is_encrypted', 'pdf_version', 'has_javascript', 'has_embedded_files', 'has_openaction', 'has_launch']\n",
            "✅ Scaler saved as scaler.pkl with features: ['pdf_version', 'num_pages', 'has_javascript', 'file_size_kb', 'has_embedded_files', 'has_openaction', 'has_launch', 'header_length', 'is_encrypted']\n"
          ]
        }
      ],
      "source": [
        "import pandas as pd\n",
        "import joblib\n",
        "from sklearn.preprocessing import StandardScaler\n",
        "\n",
        "# Load training dataset\n",
        "df_train = pd.read_csv(r\"D:\\Final_Batch_1\\file_dataset.csv\")\n",
        "\n",
        "# Print available columns\n",
        "print(\"✅ Available columns in dataset:\", df_train.columns.tolist())\n",
        "\n",
        "# Define features used for training (should match inference)\n",
        "FEATURE_COLUMNS = [\n",
        "    \"pdf_version\", \"num_pages\", \"has_javascript\",\n",
        "    \"file_size_kb\", \"has_embedded_files\", \"has_openaction\",\n",
        "    \"has_launch\", \"header_length\", \"is_encrypted\"\n",
        "]\n",
        "\n",
        "\n",
        "# Ensure all required features exist\n",
        "missing_features = [col for col in FEATURE_COLUMNS if col not in df_train.columns]\n",
        "if missing_features:\n",
        "    raise ValueError(f\"❌ Missing columns in dataset: {missing_features}\")\n",
        "\n",
        "# Extract and clean features\n",
        "X_train = df_train[FEATURE_COLUMNS].copy()\n",
        "X_train.replace([\"-1.-1\", \"-1\"], pd.NA, inplace=True)\n",
        "X_train = X_train.apply(pd.to_numeric, errors=\"coerce\")\n",
        "X_train.fillna(X_train.mean(), inplace=True)\n",
        "\n",
        "# Fit StandardScaler\n",
        "scaler = StandardScaler()\n",
        "scaler.fit(X_train)\n",
        "\n",
        "# Save the scaler\n",
        "joblib.dump(scaler, \"scaler.pkl\")\n",
        "print(\"✅ Scaler saved as scaler.pkl with features:\", FEATURE_COLUMNS)\n"
      ]
    },
    {
      "cell_type": "code",
      "execution_count": 55,
      "metadata": {},
      "outputs": [
        {
          "name": "stdout",
          "output_type": "stream",
          "text": [
            "['filename', 'label', 'header_length', 'file_size_kb', 'file_type', 'text_preview', 'num_pages', 'is_encrypted', 'pdf_version', 'has_javascript', 'has_embedded_files', 'has_openaction', 'has_launch']\n"
          ]
        }
      ],
      "source": [
        "import pandas as pd\n",
        "\n",
        "df = pd.read_csv(\"D:/Final_Batch_1/file_dataset.csv\")\n",
        "print(df.columns.tolist())\n"
      ]
    },
    {
      "cell_type": "code",
      "execution_count": 57,
      "metadata": {},
      "outputs": [
        {
          "name": "stdout",
          "output_type": "stream",
          "text": [
            "Features used in training: ['pdf_version', 'num_pages', 'has_javascript', 'file_size_kb', 'has_embedded_files', 'has_openaction', 'has_launch', 'header_length', 'is_encrypted']\n"
          ]
        }
      ],
      "source": [
        "print(\"Features used in training:\", FEATURE_COLUMNS)"
      ]
    },
    {
      "cell_type": "code",
      "execution_count": 58,
      "metadata": {},
      "outputs": [
        {
          "name": "stdout",
          "output_type": "stream",
          "text": [
            "✅ Features expected by model: ['header_length' 'file_size_kb' 'num_pages' 'is_encrypted'\n",
            " 'has_javascript' 'has_embedded_files' 'has_openaction' 'has_launch']\n"
          ]
        }
      ],
      "source": [
        "import joblib\n",
        "\n",
        "model = joblib.load(\"best_model.pkl\")\n",
        "print(\"✅ Features expected by model:\", model.feature_names_in_)\n"
      ]
    },
    {
      "cell_type": "code",
      "execution_count": null,
      "metadata": {},
      "outputs": [],
      "source": []
    }
  ],
  "metadata": {
    "colab": {
      "authorship_tag": "ABX9TyMVZOtbX6jVz4U2vdYM5JQD",
      "include_colab_link": true,
      "provenance": []
    },
    "kernelspec": {
      "display_name": "base",
      "language": "python",
      "name": "python3"
    },
    "language_info": {
      "codemirror_mode": {
        "name": "ipython",
        "version": 3
      },
      "file_extension": ".py",
      "mimetype": "text/x-python",
      "name": "python",
      "nbconvert_exporter": "python",
      "pygments_lexer": "ipython3",
      "version": "3.11.7"
    }
  },
  "nbformat": 4,
  "nbformat_minor": 0
}
